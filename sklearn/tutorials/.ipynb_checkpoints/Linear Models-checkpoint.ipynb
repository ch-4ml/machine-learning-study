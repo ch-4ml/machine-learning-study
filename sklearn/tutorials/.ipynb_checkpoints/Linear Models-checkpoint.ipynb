{
 "cells": [
  {
   "cell_type": "code",
   "execution_count": 2,
   "metadata": {},
   "outputs": [],
   "source": [
    "%matplotlib inline"
   ]
  },
  {
   "cell_type": "markdown",
   "metadata": {},
   "source": [
    "[원본 링크](https://scikit-learn.org/stable/modules/linear_model.html#polynomial-regression-extending-linear-models-with-basis-functions)\n",
    "\n",
    "1.1 Linear Models(선형 모델)\n",
    "============================\n",
    "다음은 목표값이 특성의 선형 조합이 될 것으로 예상하는 회귀에 대한 일련의 방법입니다.\n",
    "수학적 표기법에서 $\\hat y$는 예측값입니다.\n",
    "\n",
    "$$\\hat y (w, x) = w_0 + w_1x_1 + \\dots + w_px_p $$\n",
    "\n",
    "모듈 전체에서, 벡터 $w = (w_1,\\dots,w_p)$는 `coef_`로, $w_0$는 `intercept_`로 지정합니다.\n",
    "\n",
    "Note: $w_0, w_1 \\dots w_p$: 모델 파라미터 / $w_0$: 편향(bias), 절편(intercept) / $w_1 \\dots w_p$: 특성 가중치(weights)\n",
    "\n",
    "일반화된 선형 모델을 이용해서 분류를 수행하려면, [로지스틱 회귀(Logistic regression)](https://scikit-learn.org/stable/modules/linear_model.html#logistic-regression)을 참고하세요."
   ]
  },
  {
   "cell_type": "markdown",
   "metadata": {},
   "source": [
    "1.1.1. Ordinary Least Squares(오차 제곱 합을 최소로 하는 모델 파라미터 구하기)\n",
    "----------------------------\n",
    "[선형 회귀(LinearRegression)](https://scikit-learn.org/stable/modules/generated/sklearn.linear_model.LinearRegression.html#sklearn.linear_model.LinearRegression)는 특성 가중치 $w = (w_1,...,w_p)$ 가 있는 선형 모델을 학습해 데이터 집합에서 관측된 대상과 선형 근사치에 의해 예측된 대상 사이의 잔차(오차) 제곱합을 최소화합니다. 수학적으로는 다음과 같은 형식의 문제를 해결합니다.\n",
    "\n",
    "$$\\min_{w}||Xw-y||_2^2$$"
   ]
  },
  {
   "cell_type": "markdown",
   "metadata": {},
   "source": [
    "Note: 평균 제곱 오차(MSE; Mean Square Error)를 사용하기도 하는데, 오차 제곱 합을 target의 개수로 나누면 평균 제곱 오차니까 같은 의미인 듯 하다.\n",
    "- 선형 회귀 모델의 MSE 비용 함수: MSE를 최소화하는 $\\theta$를 설정\n",
    "$$MSE(X,h_\\theta) = \\frac{1}{m}\\sum_{i=1}^{m}{(\\theta^T \\cdot X^{(i)} - y^{(i)})^2}$$"
   ]
  },
  {
   "cell_type": "markdown",
   "metadata": {},
   "source": [
    "[선형 회귀(LinearRegression)](https://scikit-learn.org/stable/modules/generated/sklearn.linear_model.LinearRegression.html#sklearn.linear_model.LinearRegression)는 `fit`함수에 배열 X,y를 입력하고 선형 모델의 가중치 $w$를 `coef_` 멤버에 저장합니다:"
   ]
  },
  {
   "cell_type": "code",
   "execution_count": 9,
   "metadata": {},
   "outputs": [
    {
     "data": {
      "text/plain": [
       "array([3.])"
      ]
     },
     "execution_count": 9,
     "metadata": {},
     "output_type": "execute_result"
    }
   ],
   "source": [
    "from sklearn import linear_model\n",
    "reg = linear_model.LinearRegression()\n",
    "reg.fit([[0, 0], [1, 1], [2, 2]], [0, 1, 2])"
   ]
  },
  {
   "cell_type": "code",
   "execution_count": 10,
   "metadata": {},
   "outputs": [
    {
     "data": {
      "text/plain": [
       "(2.220446049250313e-16, array([0.5, 0.5]))"
      ]
     },
     "execution_count": 10,
     "metadata": {},
     "output_type": "execute_result"
    }
   ],
   "source": [
    "reg.intercept_, reg.coef_"
   ]
  },
  {
   "cell_type": "code",
   "execution_count": 12,
   "metadata": {},
   "outputs": [
    {
     "data": {
      "text/plain": [
       "array([3. , 3. , 5.5])"
      ]
     },
     "execution_count": 12,
     "metadata": {},
     "output_type": "execute_result"
    }
   ],
   "source": [
    "reg.predict([[3, 3], [4, 2], [5, 6]])"
   ]
  },
  {
   "cell_type": "markdown",
   "metadata": {},
   "source": [
    "Ordinary Least Squares에 대한 계수(특성 가중치) 추정치는 특성의 독립성에 따라 달라집니다. 특성이 서로 상관되고, 계획 행렬(Design Matrix) X의 열에 대략적인 선형 의존성이 있을 때 계획 행렬은 단수에 가까워지고 결과적으로 최소 제곱 추정치는 관측 대상의 랜덤 오류에 매우 민감하게 반응하여 큰 분산을 생성합니다. 이러한 [다중 공선성(multicollinearity)](https://ko.wikipedia.org/wiki/%EB%8B%A4%EC%A4%91%EA%B3%B5%EC%84%A0%EC%84%B1)의 상황은 일례로 실험 설계 없이 데이터가 수집될 때 발생할 수 있습니다."
   ]
  },
  {
   "cell_type": "markdown",
   "metadata": {},
   "source": [
    "### Linear Regression Example\n",
    "이 예시에서는 회귀 기법의 2차원 그림을 설명하기 위해서 당뇨병 데이터 셋의 첫 번째 특성만 사용합니다. 선형 회귀가 데이터 셋에서 관측된 반응과 선형 근사치에 의해 예측된 반응 사이에 오차 제곱 합을 최소화하는 직선을 그리려고 시도하는 방법을 그림에서 볼 수 있습니다.\n",
    "\n",
    "특성 가중치와 오차 제곱 합 및 결정 가중치도 계산됩니다."
   ]
  },
  {
   "cell_type": "code",
   "execution_count": 2,
   "metadata": {},
   "outputs": [
    {
     "name": "stdout",
     "output_type": "stream",
     "text": [
      "Automatically created module for IPython interactive environment\n",
      "(442, 10)\n",
      "(442, 1)\n",
      "Coefficients: \n",
      " [938.23786125]\n",
      "Mean squared error: 2548.07\n",
      "Coefficient of determination: 0.47\n"
     ]
    },
    {
     "data": {
      "image/png": "[encoded data removed]",
      "text/plain": [
       "<Figure size 432x288 with 1 Axes>"
      ]
     },
     "metadata": {},
     "output_type": "display_data"
    }
   ],
   "source": [
    "print(__doc__)\n",
    "\n",
    "\n",
    "# Code source: Jaques Grobler\n",
    "# License: BSD 3 clause\n",
    "\n",
    "\n",
    "import matplotlib.pyplot as plt\n",
    "import numpy as np\n",
    "from sklearn import datasets, linear_model\n",
    "from sklearn.metrics import mean_squared_error, r2_score\n",
    "\n",
    "# Load the diabetes dataset\n",
    "diabetes_X, diabetes_y = datasets.load_diabetes(return_X_y=True)\n",
    "\n",
    "# Use only one feature\n",
    "print(diabetes_X.shape)\n",
    "diabetes_X = diabetes_X[:, np.newaxis, 2]\n",
    "print(diabetes_X.shape)\n",
    "\n",
    "# Split the data into training/testing sets\n",
    "diabetes_X_train = diabetes_X[:-20]\n",
    "diabetes_X_test = diabetes_X[-20:]\n",
    "\n",
    "# Split the targets into training/testing sets\n",
    "diabetes_y_train = diabetes_y[:-20]\n",
    "diabetes_y_test = diabetes_y[-20:]\n",
    "\n",
    "# Create linear regression object\n",
    "regr = linear_model.LinearRegression()\n",
    "\n",
    "# Train the model using the training sets\n",
    "regr.fit(diabetes_X_train, diabetes_y_train)\n",
    "\n",
    "# Make predictions using the testing set\n",
    "diabetes_y_pred = regr.predict(diabetes_X_test)\n",
    "\n",
    "# The coefficients\n",
    "print('Coefficients: \\n', regr.coef_)\n",
    "# The mean squared error\n",
    "print('Mean squared error: %.2f'\n",
    "      % mean_squared_error(diabetes_y_test, diabetes_y_pred))\n",
    "# The coefficient of determination: 1 is perfect prediction\n",
    "print('Coefficient of determination: %.2f'\n",
    "      % r2_score(diabetes_y_test, diabetes_y_pred))\n",
    "\n",
    "# Plot outputs\n",
    "plt.scatter(diabetes_X_test, diabetes_y_test,  color='black')\n",
    "plt.plot(diabetes_X_test, diabetes_y_pred, color='blue', linewidth=3)\n",
    "\n",
    "plt.xticks(())\n",
    "plt.yticks(())\n",
    "\n",
    "plt.show()"
   ]
  },
  {
   "cell_type": "markdown",
   "metadata": {},
   "source": [
    "### 1.1.1.1. Ordinary Least Squares Complexity\n",
    "최소제곱법은 X의 특이 값 분해(Singular Value Decomposition)를 사용해 계산됩니다.\n",
    "만약 X가 `(n_samples, n_features)`모양의 행렬이면, $n_{samples} \\geq n_{features}$ 라고 가정했을 때, 이 함수의 비용은 $O(n_{samples} n_{features}^2)$입니다.\n",
    "\n",
    "\n",
    "Note: [특이값 분해(Singular Value Decomposition, SVD)](https://ko.wikipedia.org/wiki/%ED%8A%B9%EC%9D%B4%EA%B0%92_%EB%B6%84%ED%95%B4)는 행렬을 특정한 구조로 분해하는 방식으로, 신호 처리와 통계학 등의 분야 에서 자주 사용된다."
   ]
  },
  {
   "cell_type": "markdown",
   "metadata": {},
   "source": [
    "1.1.2 릿지 회귀와 분류\n",
    "----------------------------\n",
    "\n",
    "### 1.1.2.1. Regression\n",
    "[릿지(Ridge)](https://scikit-learn.org/stable/modules/generated/sklearn.linear_model.Ridge.html#sklearn.linear_model.Ridge) 회귀는 특성 가중치의 크기에 대한 패널티를 부과함으로써 OLS의 몇 가지 문제를 해결합니다.\n",
    "\n",
    "$$ \\min_{w} || X w - y||_2^2 + \\alpha ||w||_2^2 $$\n",
    "\n",
    "복잡도 매개변수 $\\alpha \\geq 0$는 수축량을 조절합니다: $\\alpha$의 값이 클수록 수축량이 많아지므로 특성 가중치가 공선성에 대해 보다 강력해집니다.\n",
    "\n",
    "### Plot Ridge coefficients as a function of the regularization\n",
    "Estimator의 가중치에서 공선성의 효과를 나타냅니다.\n",
    "\n",
    "Ridge Regression은 이 예제에서 사용되는 estimator입니다. 각각의 색깔은 가중치 벡터의 다른 특성을 표현하고, 이것은 정규화 파라미터의 함수로 표시됩니다.\n",
    "\n",
    "또한 이 예제는 질이 매우 나쁜 행렬에 Ridge Regression을 적용하는 것의 유용함을 보여줍니다. 이러한 행렬의 경우 목표 값이 약간만 변경되면 계산된 가중치가 크게 달라질 수 있습니다. 이러한 경우, 이 변동(noise)를 줄이기 위해 특정 정규화(alpha)를 설정하는 것이 유용합니다.\n",
    "\n",
    "Alpha가 매우 크면 정규화 효과가 제곱 손실 함수를 지배하며 특성 가중치는 0에 수렴합니다. 경로의 끝에서 alpha가 0을 향해 가고, 솔루션은 OLS를 향해 감에 따라 특성 가중치는 큰 진동을 나타냅니다. 실제로 둘 사이의 균형이 유지되도록 알파를 조정해야 합니다.\n",
    "\n",
    "Note:\n",
    "- $\\alpha$: 하이퍼파라미터. 모델을 얼마나 규제할지 조절\n",
    "- $\\alpha$ = 0: 선형 회귀\n",
    "- $\\alpha$가 커지면 모든 가중치가 0에 가까워지고, 데이터의 평균을 지나는 수평선이 됨"
   ]
  },
  {
   "cell_type": "code",
   "execution_count": 17,
   "metadata": {
    "scrolled": true
   },
   "outputs": [
    {
     "name": "stdout",
     "output_type": "stream",
     "text": [
      "Automatically created module for IPython interactive environment\n"
     ]
    },
    {
     "data": {
      "image/png": "[encoded data removed]",
      "text/plain": [
       "<Figure size 432x288 with 1 Axes>"
      ]
     },
     "metadata": {
      "needs_background": "light"
     },
     "output_type": "display_data"
    }
   ],
   "source": [
    "# Author: Fabian Pedregosa -- <fabian.pedregosa@inria.fr>\n",
    "# License: BSD 3 clause\n",
    "\n",
    "print(__doc__)\n",
    "\n",
    "import numpy as np\n",
    "import matplotlib.pyplot as plt\n",
    "from sklearn import linear_model\n",
    "\n",
    "# X is the 10x10 Hilbert matrix\n",
    "X = 1. / (np.arange(1, 11) + np.arange(0, 10)[:, np.newaxis])\n",
    "y = np.ones(10)\n",
    "\n",
    "# #############################################################################\n",
    "# Compute paths\n",
    "\n",
    "n_alphas = 200\n",
    "alphas = np.logspace(-10, -2, n_alphas)\n",
    "\n",
    "coefs = []\n",
    "for a in alphas:\n",
    "    ridge = linear_model.Ridge(alpha=a, fit_intercept=False)\n",
    "    ridge.fit(X, y)\n",
    "    coefs.append(ridge.coef_)\n",
    "\n",
    "# #############################################################################\n",
    "# Display results\n",
    "\n",
    "ax = plt.gca()\n",
    "\n",
    "ax.plot(alphas, coefs)\n",
    "ax.set_xscale('log')\n",
    "ax.set_xlim(ax.get_xlim()[::-1])  # reverse axis\n",
    "plt.xlabel('alpha')\n",
    "plt.ylabel('weights')\n",
    "plt.title('Ridge coefficients as a function of the regularization')\n",
    "plt.axis('tight')\n",
    "plt.show()"
   ]
  },
  {
   "cell_type": "markdown",
   "metadata": {},
   "source": [
    "다른 선형 모델과 마찬가지로, [Ridge](https://scikit-learn.org/stable/modules/generated/sklearn.linear_model.Ridge.html#sklearn.linear_model.Ridge)는 `fit`함수에 배열 X, y를 취하며, 선형 모델의 가중치 $w$를 `coef_`멤버에 저장합니다:"
   ]
  },
  {
   "cell_type": "code",
   "execution_count": 2,
   "metadata": {},
   "outputs": [
    {
     "data": {
      "text/plain": [
       "Ridge(alpha=0.5, copy_X=True, fit_intercept=True, max_iter=None,\n",
       "      normalize=False, random_state=None, solver='auto', tol=0.001)"
      ]
     },
     "execution_count": 2,
     "metadata": {},
     "output_type": "execute_result"
    }
   ],
   "source": [
    "from sklearn import linear_model\n",
    "reg = linear_model.Ridge(alpha=.5)\n",
    "reg.fit([[0, 0], [0, 0], [1, 1]], [0, .1, 1])"
   ]
  },
  {
   "cell_type": "code",
   "execution_count": 3,
   "metadata": {},
   "outputs": [
    {
     "data": {
      "text/plain": [
       "array([0.34545455, 0.34545455])"
      ]
     },
     "execution_count": 3,
     "metadata": {},
     "output_type": "execute_result"
    }
   ],
   "source": [
    "reg.coef_"
   ]
  },
  {
   "cell_type": "code",
   "execution_count": 4,
   "metadata": {},
   "outputs": [
    {
     "data": {
      "text/plain": [
       "0.1363636363636364"
      ]
     },
     "execution_count": 4,
     "metadata": {},
     "output_type": "execute_result"
    }
   ],
   "source": [
    "reg.intercept_"
   ]
  },
  {
   "cell_type": "markdown",
   "metadata": {},
   "source": [
    "### 1.1.2.2. Classification\n",
    "### 1.1.2.3. Ridge Complexity\n",
    "### 1.1.2.4. Setting the regulariztion parameter: generalized Cross-Validation "
   ]
  },
  {
   "cell_type": "markdown",
   "metadata": {},
   "source": [
    "1.1.3. Lasso\n",
    "-----------------\n"
   ]
  }
 ],
 "metadata": {
  "kernelspec": {
   "display_name": "Python 3",
   "language": "python",
   "name": "python3"
  },
  "language_info": {
   "codemirror_mode": {
    "name": "ipython",
    "version": 3
   },
   "file_extension": ".py",
   "mimetype": "text/x-python",
   "name": "python",
   "nbconvert_exporter": "python",
   "pygments_lexer": "ipython3",
   "version": "3.7.6"
  }
 },
 "nbformat": 4,
 "nbformat_minor": 4
}
