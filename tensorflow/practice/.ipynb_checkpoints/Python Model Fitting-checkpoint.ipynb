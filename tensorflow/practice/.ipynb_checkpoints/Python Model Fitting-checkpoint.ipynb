{
 "cells": [
  {
   "cell_type": "markdown",
   "metadata": {
    "colab_type": "text",
    "id": "ZfrD32G7BuN5"
   },
   "source": [
    "# 분류모형 적합 실습 : Universal Bank"
   ]
  },
  {
   "cell_type": "code",
   "execution_count": 1,
   "metadata": {
    "colab": {},
    "colab_type": "code",
    "id": "GUj0SDKoBuN7"
   },
   "outputs": [],
   "source": [
    "import numpy as np\n",
    "import matplotlib.pyplot as plt\n",
    "import pandas as pd\n",
    "from sklearn.model_selection import train_test_split\n",
    "from sklearn.tree import DecisionTreeClassifier\n",
    "from sklearn.tree import export_graphviz \n",
    "import graphviz\n",
    "from sklearn.metrics import confusion_matrix, accuracy_score, recall_score, precision_score, f1_score, roc_curve, roc_auc_score"
   ]
  },
  {
   "cell_type": "markdown",
   "metadata": {
    "colab_type": "text",
    "id": "-GaPzKhABuOA"
   },
   "source": [
    "## 분석 데이터 불러오기"
   ]
  },
  {
   "cell_type": "code",
   "execution_count": 5,
   "metadata": {
    "colab": {},
    "colab_type": "code",
    "id": "YU8KXs7SBuOB"
   },
   "outputs": [],
   "source": [
    "bank = pd.read_csv('https://goo.gl/vE8GyN')\n",
    "bank.to_excel('../data/Universal_Bank.xlsx', index = False)"
   ]
  },
  {
   "cell_type": "code",
   "execution_count": 2,
   "metadata": {
    "colab": {
     "base_uri": "https://localhost:8080/",
     "height": 342
    },
    "colab_type": "code",
    "executionInfo": {
     "elapsed": 749,
     "status": "error",
     "timestamp": 1590044742464,
     "user": {
      "displayName": "이혜은",
      "photoUrl": "",
      "userId": "06923191488710929118"
     },
     "user_tz": -540
    },
    "id": "gpJ_ANc7BuOF",
    "outputId": "0d0f7aa7-d895-47c9-ca74-17a3aae8ba27",
    "scrolled": true
   },
   "outputs": [
    {
     "ename": "XLRDError",
     "evalue": "Unsupported format, or corrupt file: Expected BOF record; found b'ID,Age,E'",
     "output_type": "error",
     "traceback": [
      "\u001b[1;31m---------------------------------------------------------------------------\u001b[0m",
      "\u001b[1;31mXLRDError\u001b[0m                                 Traceback (most recent call last)",
      "\u001b[1;32m<ipython-input-2-621f44041ba4>\u001b[0m in \u001b[0;36m<module>\u001b[1;34m\u001b[0m\n\u001b[1;32m----> 1\u001b[1;33m \u001b[0mbank\u001b[0m \u001b[1;33m=\u001b[0m \u001b[0mpd\u001b[0m\u001b[1;33m.\u001b[0m\u001b[0mread_excel\u001b[0m\u001b[1;33m(\u001b[0m\u001b[1;34m'Universal_Bank.csv'\u001b[0m\u001b[1;33m)\u001b[0m\u001b[1;33m\u001b[0m\u001b[1;33m\u001b[0m\u001b[0m\n\u001b[0m",
      "\u001b[1;32m~\\anaconda3\\lib\\site-packages\\pandas\\io\\excel\\_base.py\u001b[0m in \u001b[0;36mread_excel\u001b[1;34m(io, sheet_name, header, names, index_col, usecols, squeeze, dtype, engine, converters, true_values, false_values, skiprows, nrows, na_values, keep_default_na, verbose, parse_dates, date_parser, thousands, comment, skipfooter, convert_float, mangle_dupe_cols, **kwds)\u001b[0m\n\u001b[0;32m    302\u001b[0m \u001b[1;33m\u001b[0m\u001b[0m\n\u001b[0;32m    303\u001b[0m     \u001b[1;32mif\u001b[0m \u001b[1;32mnot\u001b[0m \u001b[0misinstance\u001b[0m\u001b[1;33m(\u001b[0m\u001b[0mio\u001b[0m\u001b[1;33m,\u001b[0m \u001b[0mExcelFile\u001b[0m\u001b[1;33m)\u001b[0m\u001b[1;33m:\u001b[0m\u001b[1;33m\u001b[0m\u001b[1;33m\u001b[0m\u001b[0m\n\u001b[1;32m--> 304\u001b[1;33m         \u001b[0mio\u001b[0m \u001b[1;33m=\u001b[0m \u001b[0mExcelFile\u001b[0m\u001b[1;33m(\u001b[0m\u001b[0mio\u001b[0m\u001b[1;33m,\u001b[0m \u001b[0mengine\u001b[0m\u001b[1;33m=\u001b[0m\u001b[0mengine\u001b[0m\u001b[1;33m)\u001b[0m\u001b[1;33m\u001b[0m\u001b[1;33m\u001b[0m\u001b[0m\n\u001b[0m\u001b[0;32m    305\u001b[0m     \u001b[1;32melif\u001b[0m \u001b[0mengine\u001b[0m \u001b[1;32mand\u001b[0m \u001b[0mengine\u001b[0m \u001b[1;33m!=\u001b[0m \u001b[0mio\u001b[0m\u001b[1;33m.\u001b[0m\u001b[0mengine\u001b[0m\u001b[1;33m:\u001b[0m\u001b[1;33m\u001b[0m\u001b[1;33m\u001b[0m\u001b[0m\n\u001b[0;32m    306\u001b[0m         raise ValueError(\n",
      "\u001b[1;32m~\\anaconda3\\lib\\site-packages\\pandas\\io\\excel\\_base.py\u001b[0m in \u001b[0;36m__init__\u001b[1;34m(self, io, engine)\u001b[0m\n\u001b[0;32m    819\u001b[0m         \u001b[0mself\u001b[0m\u001b[1;33m.\u001b[0m\u001b[0m_io\u001b[0m \u001b[1;33m=\u001b[0m \u001b[0mstringify_path\u001b[0m\u001b[1;33m(\u001b[0m\u001b[0mio\u001b[0m\u001b[1;33m)\u001b[0m\u001b[1;33m\u001b[0m\u001b[1;33m\u001b[0m\u001b[0m\n\u001b[0;32m    820\u001b[0m \u001b[1;33m\u001b[0m\u001b[0m\n\u001b[1;32m--> 821\u001b[1;33m         \u001b[0mself\u001b[0m\u001b[1;33m.\u001b[0m\u001b[0m_reader\u001b[0m \u001b[1;33m=\u001b[0m \u001b[0mself\u001b[0m\u001b[1;33m.\u001b[0m\u001b[0m_engines\u001b[0m\u001b[1;33m[\u001b[0m\u001b[0mengine\u001b[0m\u001b[1;33m]\u001b[0m\u001b[1;33m(\u001b[0m\u001b[0mself\u001b[0m\u001b[1;33m.\u001b[0m\u001b[0m_io\u001b[0m\u001b[1;33m)\u001b[0m\u001b[1;33m\u001b[0m\u001b[1;33m\u001b[0m\u001b[0m\n\u001b[0m\u001b[0;32m    822\u001b[0m \u001b[1;33m\u001b[0m\u001b[0m\n\u001b[0;32m    823\u001b[0m     \u001b[1;32mdef\u001b[0m \u001b[0m__fspath__\u001b[0m\u001b[1;33m(\u001b[0m\u001b[0mself\u001b[0m\u001b[1;33m)\u001b[0m\u001b[1;33m:\u001b[0m\u001b[1;33m\u001b[0m\u001b[1;33m\u001b[0m\u001b[0m\n",
      "\u001b[1;32m~\\anaconda3\\lib\\site-packages\\pandas\\io\\excel\\_xlrd.py\u001b[0m in \u001b[0;36m__init__\u001b[1;34m(self, filepath_or_buffer)\u001b[0m\n\u001b[0;32m     19\u001b[0m         \u001b[0merr_msg\u001b[0m \u001b[1;33m=\u001b[0m \u001b[1;34m\"Install xlrd >= 1.0.0 for Excel support\"\u001b[0m\u001b[1;33m\u001b[0m\u001b[1;33m\u001b[0m\u001b[0m\n\u001b[0;32m     20\u001b[0m         \u001b[0mimport_optional_dependency\u001b[0m\u001b[1;33m(\u001b[0m\u001b[1;34m\"xlrd\"\u001b[0m\u001b[1;33m,\u001b[0m \u001b[0mextra\u001b[0m\u001b[1;33m=\u001b[0m\u001b[0merr_msg\u001b[0m\u001b[1;33m)\u001b[0m\u001b[1;33m\u001b[0m\u001b[1;33m\u001b[0m\u001b[0m\n\u001b[1;32m---> 21\u001b[1;33m         \u001b[0msuper\u001b[0m\u001b[1;33m(\u001b[0m\u001b[1;33m)\u001b[0m\u001b[1;33m.\u001b[0m\u001b[0m__init__\u001b[0m\u001b[1;33m(\u001b[0m\u001b[0mfilepath_or_buffer\u001b[0m\u001b[1;33m)\u001b[0m\u001b[1;33m\u001b[0m\u001b[1;33m\u001b[0m\u001b[0m\n\u001b[0m\u001b[0;32m     22\u001b[0m \u001b[1;33m\u001b[0m\u001b[0m\n\u001b[0;32m     23\u001b[0m     \u001b[1;33m@\u001b[0m\u001b[0mproperty\u001b[0m\u001b[1;33m\u001b[0m\u001b[1;33m\u001b[0m\u001b[0m\n",
      "\u001b[1;32m~\\anaconda3\\lib\\site-packages\\pandas\\io\\excel\\_base.py\u001b[0m in \u001b[0;36m__init__\u001b[1;34m(self, filepath_or_buffer)\u001b[0m\n\u001b[0;32m    351\u001b[0m             \u001b[0mself\u001b[0m\u001b[1;33m.\u001b[0m\u001b[0mbook\u001b[0m \u001b[1;33m=\u001b[0m \u001b[0mself\u001b[0m\u001b[1;33m.\u001b[0m\u001b[0mload_workbook\u001b[0m\u001b[1;33m(\u001b[0m\u001b[0mfilepath_or_buffer\u001b[0m\u001b[1;33m)\u001b[0m\u001b[1;33m\u001b[0m\u001b[1;33m\u001b[0m\u001b[0m\n\u001b[0;32m    352\u001b[0m         \u001b[1;32melif\u001b[0m \u001b[0misinstance\u001b[0m\u001b[1;33m(\u001b[0m\u001b[0mfilepath_or_buffer\u001b[0m\u001b[1;33m,\u001b[0m \u001b[0mstr\u001b[0m\u001b[1;33m)\u001b[0m\u001b[1;33m:\u001b[0m\u001b[1;33m\u001b[0m\u001b[1;33m\u001b[0m\u001b[0m\n\u001b[1;32m--> 353\u001b[1;33m             \u001b[0mself\u001b[0m\u001b[1;33m.\u001b[0m\u001b[0mbook\u001b[0m \u001b[1;33m=\u001b[0m \u001b[0mself\u001b[0m\u001b[1;33m.\u001b[0m\u001b[0mload_workbook\u001b[0m\u001b[1;33m(\u001b[0m\u001b[0mfilepath_or_buffer\u001b[0m\u001b[1;33m)\u001b[0m\u001b[1;33m\u001b[0m\u001b[1;33m\u001b[0m\u001b[0m\n\u001b[0m\u001b[0;32m    354\u001b[0m         \u001b[1;32melif\u001b[0m \u001b[0misinstance\u001b[0m\u001b[1;33m(\u001b[0m\u001b[0mfilepath_or_buffer\u001b[0m\u001b[1;33m,\u001b[0m \u001b[0mbytes\u001b[0m\u001b[1;33m)\u001b[0m\u001b[1;33m:\u001b[0m\u001b[1;33m\u001b[0m\u001b[1;33m\u001b[0m\u001b[0m\n\u001b[0;32m    355\u001b[0m             \u001b[0mself\u001b[0m\u001b[1;33m.\u001b[0m\u001b[0mbook\u001b[0m \u001b[1;33m=\u001b[0m \u001b[0mself\u001b[0m\u001b[1;33m.\u001b[0m\u001b[0mload_workbook\u001b[0m\u001b[1;33m(\u001b[0m\u001b[0mBytesIO\u001b[0m\u001b[1;33m(\u001b[0m\u001b[0mfilepath_or_buffer\u001b[0m\u001b[1;33m)\u001b[0m\u001b[1;33m)\u001b[0m\u001b[1;33m\u001b[0m\u001b[1;33m\u001b[0m\u001b[0m\n",
      "\u001b[1;32m~\\anaconda3\\lib\\site-packages\\pandas\\io\\excel\\_xlrd.py\u001b[0m in \u001b[0;36mload_workbook\u001b[1;34m(self, filepath_or_buffer)\u001b[0m\n\u001b[0;32m     34\u001b[0m             \u001b[1;32mreturn\u001b[0m \u001b[0mopen_workbook\u001b[0m\u001b[1;33m(\u001b[0m\u001b[0mfile_contents\u001b[0m\u001b[1;33m=\u001b[0m\u001b[0mdata\u001b[0m\u001b[1;33m)\u001b[0m\u001b[1;33m\u001b[0m\u001b[1;33m\u001b[0m\u001b[0m\n\u001b[0;32m     35\u001b[0m         \u001b[1;32melse\u001b[0m\u001b[1;33m:\u001b[0m\u001b[1;33m\u001b[0m\u001b[1;33m\u001b[0m\u001b[0m\n\u001b[1;32m---> 36\u001b[1;33m             \u001b[1;32mreturn\u001b[0m \u001b[0mopen_workbook\u001b[0m\u001b[1;33m(\u001b[0m\u001b[0mfilepath_or_buffer\u001b[0m\u001b[1;33m)\u001b[0m\u001b[1;33m\u001b[0m\u001b[1;33m\u001b[0m\u001b[0m\n\u001b[0m\u001b[0;32m     37\u001b[0m \u001b[1;33m\u001b[0m\u001b[0m\n\u001b[0;32m     38\u001b[0m     \u001b[1;33m@\u001b[0m\u001b[0mproperty\u001b[0m\u001b[1;33m\u001b[0m\u001b[1;33m\u001b[0m\u001b[0m\n",
      "\u001b[1;32m~\\anaconda3\\lib\\site-packages\\xlrd\\__init__.py\u001b[0m in \u001b[0;36mopen_workbook\u001b[1;34m(filename, logfile, verbosity, use_mmap, file_contents, encoding_override, formatting_info, on_demand, ragged_rows)\u001b[0m\n\u001b[0;32m    155\u001b[0m         \u001b[0mformatting_info\u001b[0m\u001b[1;33m=\u001b[0m\u001b[0mformatting_info\u001b[0m\u001b[1;33m,\u001b[0m\u001b[1;33m\u001b[0m\u001b[1;33m\u001b[0m\u001b[0m\n\u001b[0;32m    156\u001b[0m         \u001b[0mon_demand\u001b[0m\u001b[1;33m=\u001b[0m\u001b[0mon_demand\u001b[0m\u001b[1;33m,\u001b[0m\u001b[1;33m\u001b[0m\u001b[1;33m\u001b[0m\u001b[0m\n\u001b[1;32m--> 157\u001b[1;33m         \u001b[0mragged_rows\u001b[0m\u001b[1;33m=\u001b[0m\u001b[0mragged_rows\u001b[0m\u001b[1;33m,\u001b[0m\u001b[1;33m\u001b[0m\u001b[1;33m\u001b[0m\u001b[0m\n\u001b[0m\u001b[0;32m    158\u001b[0m     )\n\u001b[0;32m    159\u001b[0m     \u001b[1;32mreturn\u001b[0m \u001b[0mbk\u001b[0m\u001b[1;33m\u001b[0m\u001b[1;33m\u001b[0m\u001b[0m\n",
      "\u001b[1;32m~\\anaconda3\\lib\\site-packages\\xlrd\\book.py\u001b[0m in \u001b[0;36mopen_workbook_xls\u001b[1;34m(filename, logfile, verbosity, use_mmap, file_contents, encoding_override, formatting_info, on_demand, ragged_rows)\u001b[0m\n\u001b[0;32m     90\u001b[0m         \u001b[0mt1\u001b[0m \u001b[1;33m=\u001b[0m \u001b[0mperf_counter\u001b[0m\u001b[1;33m(\u001b[0m\u001b[1;33m)\u001b[0m\u001b[1;33m\u001b[0m\u001b[1;33m\u001b[0m\u001b[0m\n\u001b[0;32m     91\u001b[0m         \u001b[0mbk\u001b[0m\u001b[1;33m.\u001b[0m\u001b[0mload_time_stage_1\u001b[0m \u001b[1;33m=\u001b[0m \u001b[0mt1\u001b[0m \u001b[1;33m-\u001b[0m \u001b[0mt0\u001b[0m\u001b[1;33m\u001b[0m\u001b[1;33m\u001b[0m\u001b[0m\n\u001b[1;32m---> 92\u001b[1;33m         \u001b[0mbiff_version\u001b[0m \u001b[1;33m=\u001b[0m \u001b[0mbk\u001b[0m\u001b[1;33m.\u001b[0m\u001b[0mgetbof\u001b[0m\u001b[1;33m(\u001b[0m\u001b[0mXL_WORKBOOK_GLOBALS\u001b[0m\u001b[1;33m)\u001b[0m\u001b[1;33m\u001b[0m\u001b[1;33m\u001b[0m\u001b[0m\n\u001b[0m\u001b[0;32m     93\u001b[0m         \u001b[1;32mif\u001b[0m \u001b[1;32mnot\u001b[0m \u001b[0mbiff_version\u001b[0m\u001b[1;33m:\u001b[0m\u001b[1;33m\u001b[0m\u001b[1;33m\u001b[0m\u001b[0m\n\u001b[0;32m     94\u001b[0m             \u001b[1;32mraise\u001b[0m \u001b[0mXLRDError\u001b[0m\u001b[1;33m(\u001b[0m\u001b[1;34m\"Can't determine file's BIFF version\"\u001b[0m\u001b[1;33m)\u001b[0m\u001b[1;33m\u001b[0m\u001b[1;33m\u001b[0m\u001b[0m\n",
      "\u001b[1;32m~\\anaconda3\\lib\\site-packages\\xlrd\\book.py\u001b[0m in \u001b[0;36mgetbof\u001b[1;34m(self, rqd_stream)\u001b[0m\n\u001b[0;32m   1276\u001b[0m             \u001b[0mbof_error\u001b[0m\u001b[1;33m(\u001b[0m\u001b[1;34m'Expected BOF record; met end of file'\u001b[0m\u001b[1;33m)\u001b[0m\u001b[1;33m\u001b[0m\u001b[1;33m\u001b[0m\u001b[0m\n\u001b[0;32m   1277\u001b[0m         \u001b[1;32mif\u001b[0m \u001b[0mopcode\u001b[0m \u001b[1;32mnot\u001b[0m \u001b[1;32min\u001b[0m \u001b[0mbofcodes\u001b[0m\u001b[1;33m:\u001b[0m\u001b[1;33m\u001b[0m\u001b[1;33m\u001b[0m\u001b[0m\n\u001b[1;32m-> 1278\u001b[1;33m             \u001b[0mbof_error\u001b[0m\u001b[1;33m(\u001b[0m\u001b[1;34m'Expected BOF record; found %r'\u001b[0m \u001b[1;33m%\u001b[0m \u001b[0mself\u001b[0m\u001b[1;33m.\u001b[0m\u001b[0mmem\u001b[0m\u001b[1;33m[\u001b[0m\u001b[0msavpos\u001b[0m\u001b[1;33m:\u001b[0m\u001b[0msavpos\u001b[0m\u001b[1;33m+\u001b[0m\u001b[1;36m8\u001b[0m\u001b[1;33m]\u001b[0m\u001b[1;33m)\u001b[0m\u001b[1;33m\u001b[0m\u001b[1;33m\u001b[0m\u001b[0m\n\u001b[0m\u001b[0;32m   1279\u001b[0m         \u001b[0mlength\u001b[0m \u001b[1;33m=\u001b[0m \u001b[0mself\u001b[0m\u001b[1;33m.\u001b[0m\u001b[0mget2bytes\u001b[0m\u001b[1;33m(\u001b[0m\u001b[1;33m)\u001b[0m\u001b[1;33m\u001b[0m\u001b[1;33m\u001b[0m\u001b[0m\n\u001b[0;32m   1280\u001b[0m         \u001b[1;32mif\u001b[0m \u001b[0mlength\u001b[0m \u001b[1;33m==\u001b[0m \u001b[0mMY_EOF\u001b[0m\u001b[1;33m:\u001b[0m\u001b[1;33m\u001b[0m\u001b[1;33m\u001b[0m\u001b[0m\n",
      "\u001b[1;32m~\\anaconda3\\lib\\site-packages\\xlrd\\book.py\u001b[0m in \u001b[0;36mbof_error\u001b[1;34m(msg)\u001b[0m\n\u001b[0;32m   1270\u001b[0m \u001b[1;33m\u001b[0m\u001b[0m\n\u001b[0;32m   1271\u001b[0m         \u001b[1;32mdef\u001b[0m \u001b[0mbof_error\u001b[0m\u001b[1;33m(\u001b[0m\u001b[0mmsg\u001b[0m\u001b[1;33m)\u001b[0m\u001b[1;33m:\u001b[0m\u001b[1;33m\u001b[0m\u001b[1;33m\u001b[0m\u001b[0m\n\u001b[1;32m-> 1272\u001b[1;33m             \u001b[1;32mraise\u001b[0m \u001b[0mXLRDError\u001b[0m\u001b[1;33m(\u001b[0m\u001b[1;34m'Unsupported format, or corrupt file: '\u001b[0m \u001b[1;33m+\u001b[0m \u001b[0mmsg\u001b[0m\u001b[1;33m)\u001b[0m\u001b[1;33m\u001b[0m\u001b[1;33m\u001b[0m\u001b[0m\n\u001b[0m\u001b[0;32m   1273\u001b[0m         \u001b[0msavpos\u001b[0m \u001b[1;33m=\u001b[0m \u001b[0mself\u001b[0m\u001b[1;33m.\u001b[0m\u001b[0m_position\u001b[0m\u001b[1;33m\u001b[0m\u001b[1;33m\u001b[0m\u001b[0m\n\u001b[0;32m   1274\u001b[0m         \u001b[0mopcode\u001b[0m \u001b[1;33m=\u001b[0m \u001b[0mself\u001b[0m\u001b[1;33m.\u001b[0m\u001b[0mget2bytes\u001b[0m\u001b[1;33m(\u001b[0m\u001b[1;33m)\u001b[0m\u001b[1;33m\u001b[0m\u001b[1;33m\u001b[0m\u001b[0m\n",
      "\u001b[1;31mXLRDError\u001b[0m: Unsupported format, or corrupt file: Expected BOF record; found b'ID,Age,E'"
     ]
    }
   ],
   "source": [
    "# bank = pd.read_excel('Universal_Bank.csv')"
   ]
  },
  {
   "cell_type": "code",
   "execution_count": 6,
   "metadata": {
    "colab": {
     "base_uri": "https://localhost:8080/",
     "height": 172
    },
    "colab_type": "code",
    "executionInfo": {
     "elapsed": 774,
     "status": "error",
     "timestamp": 1590044744543,
     "user": {
      "displayName": "이혜은",
      "photoUrl": "",
      "userId": "06923191488710929118"
     },
     "user_tz": -540
    },
    "id": "ejuIoOccBuOJ",
    "outputId": "e88d9308-532d-4587-d872-be08537c1315"
   },
   "outputs": [
    {
     "name": "stdout",
     "output_type": "stream",
     "text": [
      "<class 'pandas.core.frame.DataFrame'>\n",
      "RangeIndex: 5000 entries, 0 to 4999\n",
      "Data columns (total 14 columns):\n",
      " #   Column             Non-Null Count  Dtype  \n",
      "---  ------             --------------  -----  \n",
      " 0   ID                 5000 non-null   int64  \n",
      " 1   Age                5000 non-null   int64  \n",
      " 2   Experience         5000 non-null   int64  \n",
      " 3   Income             5000 non-null   int64  \n",
      " 4   ZIP Code           5000 non-null   int64  \n",
      " 5   Family             5000 non-null   int64  \n",
      " 6   CCAvg              5000 non-null   float64\n",
      " 7   Education          5000 non-null   int64  \n",
      " 8   Mortgage           5000 non-null   int64  \n",
      " 9   PersonalLoan       5000 non-null   int64  \n",
      " 10  SecuritiesAccount  5000 non-null   int64  \n",
      " 11  CDAccount          5000 non-null   int64  \n",
      " 12  Online             5000 non-null   int64  \n",
      " 13  CreditCard         5000 non-null   int64  \n",
      "dtypes: float64(1), int64(13)\n",
      "memory usage: 547.0 KB\n"
     ]
    }
   ],
   "source": [
    "bank.info()"
   ]
  },
  {
   "cell_type": "code",
   "execution_count": 7,
   "metadata": {
    "colab": {},
    "colab_type": "code",
    "id": "CQT6kGl0BuOO"
   },
   "outputs": [],
   "source": [
    "bank.drop(['ID', 'ZIP Code'], axis = 1, inplace = True)"
   ]
  },
  {
   "cell_type": "code",
   "execution_count": 8,
   "metadata": {
    "colab": {},
    "colab_type": "code",
    "id": "sZCTYw6-BuOS",
    "outputId": "19796571-4518-41ee-f337-363178bf2abe"
   },
   "outputs": [
    {
     "data": {
      "text/html": [
       "<div>\n",
       "<style scoped>\n",
       "    .dataframe tbody tr th:only-of-type {\n",
       "        vertical-align: middle;\n",
       "    }\n",
       "\n",
       "    .dataframe tbody tr th {\n",
       "        vertical-align: top;\n",
       "    }\n",
       "\n",
       "    .dataframe thead th {\n",
       "        text-align: right;\n",
       "    }\n",
       "</style>\n",
       "<table border=\"1\" class=\"dataframe\">\n",
       "  <thead>\n",
       "    <tr style=\"text-align: right;\">\n",
       "      <th></th>\n",
       "      <th>Age</th>\n",
       "      <th>Experience</th>\n",
       "      <th>Income</th>\n",
       "      <th>Family</th>\n",
       "      <th>CCAvg</th>\n",
       "      <th>Education</th>\n",
       "      <th>Mortgage</th>\n",
       "      <th>PersonalLoan</th>\n",
       "      <th>SecuritiesAccount</th>\n",
       "      <th>CDAccount</th>\n",
       "      <th>Online</th>\n",
       "      <th>CreditCard</th>\n",
       "    </tr>\n",
       "  </thead>\n",
       "  <tbody>\n",
       "    <tr>\n",
       "      <th>count</th>\n",
       "      <td>5000.000000</td>\n",
       "      <td>5000.000000</td>\n",
       "      <td>5000.000000</td>\n",
       "      <td>5000.000000</td>\n",
       "      <td>5000.000000</td>\n",
       "      <td>5000.000000</td>\n",
       "      <td>5000.000000</td>\n",
       "      <td>5000.000000</td>\n",
       "      <td>5000.000000</td>\n",
       "      <td>5000.00000</td>\n",
       "      <td>5000.000000</td>\n",
       "      <td>5000.000000</td>\n",
       "    </tr>\n",
       "    <tr>\n",
       "      <th>mean</th>\n",
       "      <td>45.338400</td>\n",
       "      <td>20.104600</td>\n",
       "      <td>73.774200</td>\n",
       "      <td>2.396400</td>\n",
       "      <td>1.937938</td>\n",
       "      <td>1.881000</td>\n",
       "      <td>56.498800</td>\n",
       "      <td>0.096000</td>\n",
       "      <td>0.104400</td>\n",
       "      <td>0.06040</td>\n",
       "      <td>0.596800</td>\n",
       "      <td>0.294000</td>\n",
       "    </tr>\n",
       "    <tr>\n",
       "      <th>std</th>\n",
       "      <td>11.463166</td>\n",
       "      <td>11.467954</td>\n",
       "      <td>46.033729</td>\n",
       "      <td>1.147663</td>\n",
       "      <td>1.747659</td>\n",
       "      <td>0.839869</td>\n",
       "      <td>101.713802</td>\n",
       "      <td>0.294621</td>\n",
       "      <td>0.305809</td>\n",
       "      <td>0.23825</td>\n",
       "      <td>0.490589</td>\n",
       "      <td>0.455637</td>\n",
       "    </tr>\n",
       "    <tr>\n",
       "      <th>min</th>\n",
       "      <td>23.000000</td>\n",
       "      <td>-3.000000</td>\n",
       "      <td>8.000000</td>\n",
       "      <td>1.000000</td>\n",
       "      <td>0.000000</td>\n",
       "      <td>1.000000</td>\n",
       "      <td>0.000000</td>\n",
       "      <td>0.000000</td>\n",
       "      <td>0.000000</td>\n",
       "      <td>0.00000</td>\n",
       "      <td>0.000000</td>\n",
       "      <td>0.000000</td>\n",
       "    </tr>\n",
       "    <tr>\n",
       "      <th>25%</th>\n",
       "      <td>35.000000</td>\n",
       "      <td>10.000000</td>\n",
       "      <td>39.000000</td>\n",
       "      <td>1.000000</td>\n",
       "      <td>0.700000</td>\n",
       "      <td>1.000000</td>\n",
       "      <td>0.000000</td>\n",
       "      <td>0.000000</td>\n",
       "      <td>0.000000</td>\n",
       "      <td>0.00000</td>\n",
       "      <td>0.000000</td>\n",
       "      <td>0.000000</td>\n",
       "    </tr>\n",
       "    <tr>\n",
       "      <th>50%</th>\n",
       "      <td>45.000000</td>\n",
       "      <td>20.000000</td>\n",
       "      <td>64.000000</td>\n",
       "      <td>2.000000</td>\n",
       "      <td>1.500000</td>\n",
       "      <td>2.000000</td>\n",
       "      <td>0.000000</td>\n",
       "      <td>0.000000</td>\n",
       "      <td>0.000000</td>\n",
       "      <td>0.00000</td>\n",
       "      <td>1.000000</td>\n",
       "      <td>0.000000</td>\n",
       "    </tr>\n",
       "    <tr>\n",
       "      <th>75%</th>\n",
       "      <td>55.000000</td>\n",
       "      <td>30.000000</td>\n",
       "      <td>98.000000</td>\n",
       "      <td>3.000000</td>\n",
       "      <td>2.500000</td>\n",
       "      <td>3.000000</td>\n",
       "      <td>101.000000</td>\n",
       "      <td>0.000000</td>\n",
       "      <td>0.000000</td>\n",
       "      <td>0.00000</td>\n",
       "      <td>1.000000</td>\n",
       "      <td>1.000000</td>\n",
       "    </tr>\n",
       "    <tr>\n",
       "      <th>max</th>\n",
       "      <td>67.000000</td>\n",
       "      <td>43.000000</td>\n",
       "      <td>224.000000</td>\n",
       "      <td>4.000000</td>\n",
       "      <td>10.000000</td>\n",
       "      <td>3.000000</td>\n",
       "      <td>635.000000</td>\n",
       "      <td>1.000000</td>\n",
       "      <td>1.000000</td>\n",
       "      <td>1.00000</td>\n",
       "      <td>1.000000</td>\n",
       "      <td>1.000000</td>\n",
       "    </tr>\n",
       "  </tbody>\n",
       "</table>\n",
       "</div>"
      ],
      "text/plain": [
       "               Age   Experience       Income       Family        CCAvg  \\\n",
       "count  5000.000000  5000.000000  5000.000000  5000.000000  5000.000000   \n",
       "mean     45.338400    20.104600    73.774200     2.396400     1.937938   \n",
       "std      11.463166    11.467954    46.033729     1.147663     1.747659   \n",
       "min      23.000000    -3.000000     8.000000     1.000000     0.000000   \n",
       "25%      35.000000    10.000000    39.000000     1.000000     0.700000   \n",
       "50%      45.000000    20.000000    64.000000     2.000000     1.500000   \n",
       "75%      55.000000    30.000000    98.000000     3.000000     2.500000   \n",
       "max      67.000000    43.000000   224.000000     4.000000    10.000000   \n",
       "\n",
       "         Education     Mortgage  PersonalLoan  SecuritiesAccount   CDAccount  \\\n",
       "count  5000.000000  5000.000000   5000.000000        5000.000000  5000.00000   \n",
       "mean      1.881000    56.498800      0.096000           0.104400     0.06040   \n",
       "std       0.839869   101.713802      0.294621           0.305809     0.23825   \n",
       "min       1.000000     0.000000      0.000000           0.000000     0.00000   \n",
       "25%       1.000000     0.000000      0.000000           0.000000     0.00000   \n",
       "50%       2.000000     0.000000      0.000000           0.000000     0.00000   \n",
       "75%       3.000000   101.000000      0.000000           0.000000     0.00000   \n",
       "max       3.000000   635.000000      1.000000           1.000000     1.00000   \n",
       "\n",
       "            Online   CreditCard  \n",
       "count  5000.000000  5000.000000  \n",
       "mean      0.596800     0.294000  \n",
       "std       0.490589     0.455637  \n",
       "min       0.000000     0.000000  \n",
       "25%       0.000000     0.000000  \n",
       "50%       1.000000     0.000000  \n",
       "75%       1.000000     1.000000  \n",
       "max       1.000000     1.000000  "
      ]
     },
     "execution_count": 8,
     "metadata": {},
     "output_type": "execute_result"
    }
   ],
   "source": [
    "bank.describe()"
   ]
  },
  {
   "cell_type": "code",
   "execution_count": 9,
   "metadata": {
    "colab": {},
    "colab_type": "code",
    "id": "cXhPwLoQBuOV",
    "outputId": "694f4a0f-a991-4262-dc90-ce2a442f5308"
   },
   "outputs": [
    {
     "name": "stdout",
     "output_type": "stream",
     "text": [
      "['Age', 'Experience', 'Income', 'Family', 'CCAvg', 'Education', 'Mortgage', 'PersonalLoan', 'SecuritiesAccount', 'CDAccount', 'Online', 'CreditCard']\n"
     ]
    }
   ],
   "source": [
    "cols = bank.columns.tolist()\n",
    "print(cols)"
   ]
  },
  {
   "cell_type": "code",
   "execution_count": 10,
   "metadata": {
    "colab": {},
    "colab_type": "code",
    "id": "Oowo3e35BuOZ"
   },
   "outputs": [],
   "source": [
    "cols = cols[:7] + cols[8:] + cols[7:8]\n",
    "bank = bank[cols]"
   ]
  },
  {
   "cell_type": "code",
   "execution_count": 11,
   "metadata": {
    "colab": {},
    "colab_type": "code",
    "id": "rsmak6Z9BuOd",
    "outputId": "214f0ee9-2eef-473d-a35e-163fafca80f3"
   },
   "outputs": [
    {
     "data": {
      "text/plain": [
       "Index(['Age', 'Experience', 'Income', 'Family', 'CCAvg', 'Education',\n",
       "       'Mortgage', 'SecuritiesAccount', 'CDAccount', 'Online', 'CreditCard',\n",
       "       'PersonalLoan'],\n",
       "      dtype='object')"
      ]
     },
     "execution_count": 11,
     "metadata": {},
     "output_type": "execute_result"
    }
   ],
   "source": [
    "bank.columns"
   ]
  },
  {
   "cell_type": "markdown",
   "metadata": {
    "colab_type": "text",
    "id": "tvxXx0LtBuOg"
   },
   "source": [
    "## 명목형 컬럼의 변환"
   ]
  },
  {
   "cell_type": "code",
   "execution_count": 12,
   "metadata": {
    "colab": {},
    "colab_type": "code",
    "id": "F3f0iEo7BuOh"
   },
   "outputs": [],
   "source": [
    "bank.columns = ['Age', 'Exp', 'Income', 'Family', 'CCAvg', 'Edu', 'Mor', 'Sec', 'CDA', 'Online', 'CCard', 'PLoan']"
   ]
  },
  {
   "cell_type": "code",
   "execution_count": 13,
   "metadata": {
    "colab": {},
    "colab_type": "code",
    "id": "myK6cA6FBuOk"
   },
   "outputs": [],
   "source": [
    "bank['Edu'] = pd.Categorical(bank['Edu'])\n",
    "bank['PLoan'] = pd.Categorical(bank['PLoan'])\n",
    "bank['Sec'] = pd.Categorical(bank['Sec'])\n",
    "bank['CDA'] = pd.Categorical(bank['CDA'])\n",
    "bank['Online'] = pd.Categorical(bank['Online'])\n",
    "bank['CCard'] = pd.Categorical(bank['CCard'])"
   ]
  },
  {
   "cell_type": "markdown",
   "metadata": {
    "colab_type": "text",
    "id": "4Giu3nEhBuOo"
   },
   "source": [
    "## 목표변수 파악하기"
   ]
  },
  {
   "cell_type": "code",
   "execution_count": 14,
   "metadata": {
    "colab": {},
    "colab_type": "code",
    "id": "l-gw_ilABuOo",
    "outputId": "d703346e-8386-4d22-a1a0-e0c8346d8ca5"
   },
   "outputs": [
    {
     "data": {
      "text/plain": [
       "Age          int64\n",
       "Exp          int64\n",
       "Income       int64\n",
       "Family       int64\n",
       "CCAvg      float64\n",
       "Edu       category\n",
       "Mor          int64\n",
       "Sec       category\n",
       "CDA       category\n",
       "Online    category\n",
       "CCard     category\n",
       "PLoan     category\n",
       "dtype: object"
      ]
     },
     "execution_count": 14,
     "metadata": {},
     "output_type": "execute_result"
    }
   ],
   "source": [
    "bank.dtypes"
   ]
  },
  {
   "cell_type": "code",
   "execution_count": 15,
   "metadata": {
    "colab": {},
    "colab_type": "code",
    "id": "eCvRkyo7BuOs",
    "outputId": "a63e2056-2345-460f-e43a-600d76a4cc1f"
   },
   "outputs": [
    {
     "data": {
      "text/plain": [
       "0    4520\n",
       "1     480\n",
       "Name: PLoan, dtype: int64"
      ]
     },
     "execution_count": 15,
     "metadata": {},
     "output_type": "execute_result"
    }
   ],
   "source": [
    "bank['PLoan'].value_counts()"
   ]
  },
  {
   "cell_type": "code",
   "execution_count": 16,
   "metadata": {
    "colab": {},
    "colab_type": "code",
    "id": "KtNEEqR-BuOv",
    "outputId": "8664901e-728f-4fdd-ee97-78093b768001"
   },
   "outputs": [
    {
     "data": {
      "text/plain": [
       "0    0.904\n",
       "1    0.096\n",
       "Name: PLoan, dtype: float64"
      ]
     },
     "execution_count": 16,
     "metadata": {},
     "output_type": "execute_result"
    }
   ],
   "source": [
    "bank['PLoan'].value_counts().div(len(bank))"
   ]
  },
  {
   "cell_type": "markdown",
   "metadata": {
    "colab_type": "text",
    "id": "x6iqbdZfBuOy"
   },
   "source": [
    "## 분석 데이터 분할"
   ]
  },
  {
   "cell_type": "code",
   "execution_count": 17,
   "metadata": {
    "colab": {},
    "colab_type": "code",
    "id": "F7_OjxpaBuOy"
   },
   "outputs": [],
   "source": [
    "bank_Xvar = bank.drop('PLoan', axis = 1)\n",
    "bank_yvar = bank['PLoan']"
   ]
  },
  {
   "cell_type": "code",
   "execution_count": 18,
   "metadata": {
    "colab": {},
    "colab_type": "code",
    "id": "qaLhLiD5BuO2"
   },
   "outputs": [],
   "source": [
    "X_train, X_test, y_train, y_test = train_test_split(bank_Xvar, \n",
    "                                                    bank_yvar, \n",
    "                                                    test_size = 0.3, \n",
    "                                                    random_state = 1)"
   ]
  },
  {
   "cell_type": "code",
   "execution_count": 19,
   "metadata": {
    "colab": {},
    "colab_type": "code",
    "id": "2sX2YBKTBuO5",
    "outputId": "c1a0c813-f99c-49b7-9f54-8ad1755bf2a6"
   },
   "outputs": [
    {
     "data": {
      "text/plain": [
       "0    0.905429\n",
       "1    0.094571\n",
       "Name: PLoan, dtype: float64"
      ]
     },
     "execution_count": 19,
     "metadata": {},
     "output_type": "execute_result"
    }
   ],
   "source": [
    "y_train.value_counts().div(len(y_train))"
   ]
  },
  {
   "cell_type": "code",
   "execution_count": 20,
   "metadata": {
    "colab": {},
    "colab_type": "code",
    "id": "m3bUEGYyBuO9",
    "outputId": "fb936959-1d66-4a4b-c416-deb7144c682d"
   },
   "outputs": [
    {
     "data": {
      "text/plain": [
       "0    0.900667\n",
       "1    0.099333\n",
       "Name: PLoan, dtype: float64"
      ]
     },
     "execution_count": 20,
     "metadata": {},
     "output_type": "execute_result"
    }
   ],
   "source": [
    "y_test.value_counts().div(len(y_test))"
   ]
  },
  {
   "cell_type": "markdown",
   "metadata": {
    "colab_type": "text",
    "id": "fU-RZaqvBuO_"
   },
   "source": [
    "## 분류모형의 적합"
   ]
  },
  {
   "cell_type": "code",
   "execution_count": 21,
   "metadata": {
    "colab": {},
    "colab_type": "code",
    "id": "R7ccbZ2LBuPA"
   },
   "outputs": [],
   "source": [
    "tree = DecisionTreeClassifier(random_state = 1, \n",
    "                              criterion = 'gini',\n",
    "                              max_depth = 10, \n",
    "                              min_samples_leaf = 20)"
   ]
  },
  {
   "cell_type": "code",
   "execution_count": 22,
   "metadata": {
    "colab": {},
    "colab_type": "code",
    "id": "4324kyqrBuPD",
    "outputId": "e996e8ca-884d-4fc3-f9bf-0fb9e8acac11"
   },
   "outputs": [
    {
     "data": {
      "text/plain": [
       "DecisionTreeClassifier(ccp_alpha=0.0, class_weight=None, criterion='gini',\n",
       "                       max_depth=10, max_features=None, max_leaf_nodes=None,\n",
       "                       min_impurity_decrease=0.0, min_impurity_split=None,\n",
       "                       min_samples_leaf=20, min_samples_split=2,\n",
       "                       min_weight_fraction_leaf=0.0, presort='deprecated',\n",
       "                       random_state=1, splitter='best')"
      ]
     },
     "execution_count": 22,
     "metadata": {},
     "output_type": "execute_result"
    }
   ],
   "source": [
    "tree.fit(X_train, y_train)"
   ]
  },
  {
   "cell_type": "code",
   "execution_count": 23,
   "metadata": {
    "colab": {},
    "colab_type": "code",
    "id": "-dwjHRZ6BuPG",
    "outputId": "6cc93a5b-42af-4807-d787-ec44e2d0ccac"
   },
   "outputs": [
    {
     "data": {
      "text/plain": [
       "5"
      ]
     },
     "execution_count": 23,
     "metadata": {},
     "output_type": "execute_result"
    }
   ],
   "source": [
    "tree.get_depth()"
   ]
  },
  {
   "cell_type": "code",
   "execution_count": 24,
   "metadata": {
    "colab": {},
    "colab_type": "code",
    "id": "cKoC7fjVBuPJ",
    "outputId": "092708a5-d17f-4ef9-9e8e-6ef34425abf3"
   },
   "outputs": [
    {
     "data": {
      "text/plain": [
       "14"
      ]
     },
     "execution_count": 24,
     "metadata": {},
     "output_type": "execute_result"
    }
   ],
   "source": [
    "tree.get_n_leaves()"
   ]
  },
  {
   "cell_type": "code",
   "execution_count": 25,
   "metadata": {
    "colab": {},
    "colab_type": "code",
    "id": "eAIFhWfoBuPM",
    "outputId": "6e6337ed-ca5e-42d1-d77c-26550d816a97"
   },
   "outputs": [
    {
     "data": {
      "text/plain": [
       "{'ccp_alpha': 0.0,\n",
       " 'class_weight': None,\n",
       " 'criterion': 'gini',\n",
       " 'max_depth': 10,\n",
       " 'max_features': None,\n",
       " 'max_leaf_nodes': None,\n",
       " 'min_impurity_decrease': 0.0,\n",
       " 'min_impurity_split': None,\n",
       " 'min_samples_leaf': 20,\n",
       " 'min_samples_split': 2,\n",
       " 'min_weight_fraction_leaf': 0.0,\n",
       " 'presort': 'deprecated',\n",
       " 'random_state': 1,\n",
       " 'splitter': 'best'}"
      ]
     },
     "execution_count": 25,
     "metadata": {},
     "output_type": "execute_result"
    }
   ],
   "source": [
    "tree.get_params()"
   ]
  },
  {
   "cell_type": "markdown",
   "metadata": {
    "colab_type": "text",
    "id": "OQUApm-bBuPQ"
   },
   "source": [
    "## 나무모형의 시각화"
   ]
  },
  {
   "cell_type": "code",
   "execution_count": 26,
   "metadata": {
    "colab": {},
    "colab_type": "code",
    "id": "K2LFdBlVBuPQ"
   },
   "outputs": [
    {
     "ename": "FileNotFoundError",
     "evalue": "[Errno 2] No such file or directory: './image/tree_bank.dot'",
     "output_type": "error",
     "traceback": [
      "\u001b[1;31m---------------------------------------------------------------------------\u001b[0m",
      "\u001b[1;31mFileNotFoundError\u001b[0m                         Traceback (most recent call last)",
      "\u001b[1;32m<ipython-input-26-942c7c1a5666>\u001b[0m in \u001b[0;36m<module>\u001b[1;34m\u001b[0m\n\u001b[0;32m      2\u001b[0m                 \u001b[0mclass_names\u001b[0m \u001b[1;33m=\u001b[0m \u001b[1;33m[\u001b[0m\u001b[1;34m'No'\u001b[0m\u001b[1;33m,\u001b[0m \u001b[1;34m'Yes'\u001b[0m\u001b[1;33m]\u001b[0m\u001b[1;33m,\u001b[0m\u001b[1;33m\u001b[0m\u001b[1;33m\u001b[0m\u001b[0m\n\u001b[0;32m      3\u001b[0m                 \u001b[0mfeature_names\u001b[0m \u001b[1;33m=\u001b[0m \u001b[0mbank\u001b[0m\u001b[1;33m.\u001b[0m\u001b[0mcolumns\u001b[0m\u001b[1;33m[\u001b[0m\u001b[1;33m:\u001b[0m\u001b[1;36m11\u001b[0m\u001b[1;33m]\u001b[0m\u001b[1;33m,\u001b[0m\u001b[1;33m\u001b[0m\u001b[1;33m\u001b[0m\u001b[0m\n\u001b[1;32m----> 4\u001b[1;33m                 impurity = False, filled = True)\n\u001b[0m",
      "\u001b[1;32m~\\anaconda3\\lib\\site-packages\\sklearn\\tree\\_export.py\u001b[0m in \u001b[0;36mexport_graphviz\u001b[1;34m(decision_tree, out_file, max_depth, feature_names, class_names, label, filled, leaves_parallel, impurity, node_ids, proportion, rotate, rounded, special_characters, precision)\u001b[0m\n\u001b[0;32m    748\u001b[0m     \u001b[1;32mtry\u001b[0m\u001b[1;33m:\u001b[0m\u001b[1;33m\u001b[0m\u001b[1;33m\u001b[0m\u001b[0m\n\u001b[0;32m    749\u001b[0m         \u001b[1;32mif\u001b[0m \u001b[0misinstance\u001b[0m\u001b[1;33m(\u001b[0m\u001b[0mout_file\u001b[0m\u001b[1;33m,\u001b[0m \u001b[0mstr\u001b[0m\u001b[1;33m)\u001b[0m\u001b[1;33m:\u001b[0m\u001b[1;33m\u001b[0m\u001b[1;33m\u001b[0m\u001b[0m\n\u001b[1;32m--> 750\u001b[1;33m             \u001b[0mout_file\u001b[0m \u001b[1;33m=\u001b[0m \u001b[0mopen\u001b[0m\u001b[1;33m(\u001b[0m\u001b[0mout_file\u001b[0m\u001b[1;33m,\u001b[0m \u001b[1;34m\"w\"\u001b[0m\u001b[1;33m,\u001b[0m \u001b[0mencoding\u001b[0m\u001b[1;33m=\u001b[0m\u001b[1;34m\"utf-8\"\u001b[0m\u001b[1;33m)\u001b[0m\u001b[1;33m\u001b[0m\u001b[1;33m\u001b[0m\u001b[0m\n\u001b[0m\u001b[0;32m    751\u001b[0m             \u001b[0mown_file\u001b[0m \u001b[1;33m=\u001b[0m \u001b[1;32mTrue\u001b[0m\u001b[1;33m\u001b[0m\u001b[1;33m\u001b[0m\u001b[0m\n\u001b[0;32m    752\u001b[0m \u001b[1;33m\u001b[0m\u001b[0m\n",
      "\u001b[1;31mFileNotFoundError\u001b[0m: [Errno 2] No such file or directory: './image/tree_bank.dot'"
     ]
    }
   ],
   "source": [
    "export_graphviz(tree, out_file = './image/tree_bank.dot', \n",
    "                class_names = ['No', 'Yes'], \n",
    "                feature_names = bank.columns[:11], \n",
    "                impurity = False, filled = True)"
   ]
  },
  {
   "cell_type": "code",
   "execution_count": 0,
   "metadata": {
    "colab": {},
    "colab_type": "code",
    "id": "BeefGU0mBuPT"
   },
   "outputs": [],
   "source": [
    "with open('./image/tree_bank.dot') as file:\n",
    "    dot_graph = file.read()"
   ]
  },
  {
   "cell_type": "code",
   "execution_count": 0,
   "metadata": {
    "colab": {},
    "colab_type": "code",
    "id": "jnsIGy7EBuPX",
    "outputId": "99e9b6f5-3f0f-4369-9239-d6844c48ef63"
   },
   "outputs": [
    {
     "data": {
      "image/svg+xml": [
       "<?xml version=\"1.0\" encoding=\"UTF-8\" standalone=\"no\"?>\r\n",
       "<!DOCTYPE svg PUBLIC \"-//W3C//DTD SVG 1.1//EN\"\r\n",
       " \"http://www.w3.org/Graphics/SVG/1.1/DTD/svg11.dtd\">\r\n",
       "<!-- Generated by graphviz version 2.38.0 (20140413.2041)\r\n",
       " -->\r\n",
       "<!-- Title: Tree Pages: 1 -->\r\n",
       "<svg width=\"1031pt\" height=\"581pt\"\r\n",
       " viewBox=\"0.00 0.00 1031.00 581.00\" xmlns=\"http://www.w3.org/2000/svg\" xmlns:xlink=\"http://www.w3.org/1999/xlink\">\r\n",
       "<g id=\"graph0\" class=\"graph\" transform=\"scale(1 1) rotate(0) translate(4 577)\">\r\n",
       "<title>Tree</title>\r\n",
       "<polygon fill=\"white\" stroke=\"none\" points=\"-4,4 -4,-577 1027,-577 1027,4 -4,4\"/>\r\n",
       "<!-- 0 -->\r\n",
       "<g id=\"node1\" class=\"node\"><title>0</title>\r\n",
       "<polygon fill=\"#e88e4e\" stroke=\"black\" points=\"815.5,-573 690.5,-573 690.5,-505 815.5,-505 815.5,-573\"/>\r\n",
       "<text text-anchor=\"middle\" x=\"753\" y=\"-557.8\" font-family=\"Times New Roman,serif\" font-size=\"14.00\">Income &lt;= 116.5</text>\r\n",
       "<text text-anchor=\"middle\" x=\"753\" y=\"-542.8\" font-family=\"Times New Roman,serif\" font-size=\"14.00\">samples = 3500</text>\r\n",
       "<text text-anchor=\"middle\" x=\"753\" y=\"-527.8\" font-family=\"Times New Roman,serif\" font-size=\"14.00\">value = [3169, 331]</text>\r\n",
       "<text text-anchor=\"middle\" x=\"753\" y=\"-512.8\" font-family=\"Times New Roman,serif\" font-size=\"14.00\">class = No</text>\r\n",
       "</g>\r\n",
       "<!-- 1 -->\r\n",
       "<g id=\"node2\" class=\"node\"><title>1</title>\r\n",
       "<polygon fill=\"#e6843d\" stroke=\"black\" points=\"688,-469 570,-469 570,-401 688,-401 688,-469\"/>\r\n",
       "<text text-anchor=\"middle\" x=\"629\" y=\"-453.8\" font-family=\"Times New Roman,serif\" font-size=\"14.00\">CCAvg &lt;= 2.95</text>\r\n",
       "<text text-anchor=\"middle\" x=\"629\" y=\"-438.8\" font-family=\"Times New Roman,serif\" font-size=\"14.00\">samples = 2856</text>\r\n",
       "<text text-anchor=\"middle\" x=\"629\" y=\"-423.8\" font-family=\"Times New Roman,serif\" font-size=\"14.00\">value = [2794, 62]</text>\r\n",
       "<text text-anchor=\"middle\" x=\"629\" y=\"-408.8\" font-family=\"Times New Roman,serif\" font-size=\"14.00\">class = No</text>\r\n",
       "</g>\r\n",
       "<!-- 0&#45;&gt;1 -->\r\n",
       "<g id=\"edge1\" class=\"edge\"><title>0&#45;&gt;1</title>\r\n",
       "<path fill=\"none\" stroke=\"black\" d=\"M712.741,-504.884C701.479,-495.62 689.122,-485.455 677.44,-475.845\"/>\r\n",
       "<polygon fill=\"black\" stroke=\"black\" points=\"679.428,-472.949 669.482,-469.299 674.981,-478.355 679.428,-472.949\"/>\r\n",
       "<text text-anchor=\"middle\" x=\"671.904\" y=\"-490.482\" font-family=\"Times New Roman,serif\" font-size=\"14.00\">True</text>\r\n",
       "</g>\r\n",
       "<!-- 22 -->\r\n",
       "<g id=\"node23\" class=\"node\"><title>22</title>\r\n",
       "<polygon fill=\"#f8dbc7\" stroke=\"black\" points=\"904,-469 786,-469 786,-401 904,-401 904,-469\"/>\r\n",
       "<text text-anchor=\"middle\" x=\"845\" y=\"-453.8\" font-family=\"Times New Roman,serif\" font-size=\"14.00\">Edu &lt;= 1.5</text>\r\n",
       "<text text-anchor=\"middle\" x=\"845\" y=\"-438.8\" font-family=\"Times New Roman,serif\" font-size=\"14.00\">samples = 644</text>\r\n",
       "<text text-anchor=\"middle\" x=\"845\" y=\"-423.8\" font-family=\"Times New Roman,serif\" font-size=\"14.00\">value = [375, 269]</text>\r\n",
       "<text text-anchor=\"middle\" x=\"845\" y=\"-408.8\" font-family=\"Times New Roman,serif\" font-size=\"14.00\">class = No</text>\r\n",
       "</g>\r\n",
       "<!-- 0&#45;&gt;22 -->\r\n",
       "<g id=\"edge22\" class=\"edge\"><title>0&#45;&gt;22</title>\r\n",
       "<path fill=\"none\" stroke=\"black\" d=\"M782.87,-504.884C790.904,-495.976 799.69,-486.235 808.059,-476.957\"/>\r\n",
       "<polygon fill=\"black\" stroke=\"black\" points=\"810.867,-479.069 814.965,-469.299 805.669,-474.381 810.867,-479.069\"/>\r\n",
       "<text text-anchor=\"middle\" x=\"816.252\" y=\"-490.566\" font-family=\"Times New Roman,serif\" font-size=\"14.00\">False</text>\r\n",
       "</g>\r\n",
       "<!-- 2 -->\r\n",
       "<g id=\"node3\" class=\"node\"><title>2</title>\r\n",
       "<polygon fill=\"#e5813a\" stroke=\"black\" points=\"338,-365 220,-365 220,-297 338,-297 338,-365\"/>\r\n",
       "<text text-anchor=\"middle\" x=\"279\" y=\"-349.8\" font-family=\"Times New Roman,serif\" font-size=\"14.00\">Income &lt;= 106.5</text>\r\n",
       "<text text-anchor=\"middle\" x=\"279\" y=\"-334.8\" font-family=\"Times New Roman,serif\" font-size=\"14.00\">samples = 2642</text>\r\n",
       "<text text-anchor=\"middle\" x=\"279\" y=\"-319.8\" font-family=\"Times New Roman,serif\" font-size=\"14.00\">value = [2632, 10]</text>\r\n",
       "<text text-anchor=\"middle\" x=\"279\" y=\"-304.8\" font-family=\"Times New Roman,serif\" font-size=\"14.00\">class = No</text>\r\n",
       "</g>\r\n",
       "<!-- 1&#45;&gt;2 -->\r\n",
       "<g id=\"edge2\" class=\"edge\"><title>1&#45;&gt;2</title>\r\n",
       "<path fill=\"none\" stroke=\"black\" d=\"M569.627,-416.697C508.224,-398.802 412.443,-370.889 347.782,-352.045\"/>\r\n",
       "<polygon fill=\"black\" stroke=\"black\" points=\"348.659,-348.655 338.079,-349.217 346.7,-355.375 348.659,-348.655\"/>\r\n",
       "</g>\r\n",
       "<!-- 9 -->\r\n",
       "<g id=\"node10\" class=\"node\"><title>9</title>\r\n",
       "<polygon fill=\"#eda979\" stroke=\"black\" points=\"684.5,-365 573.5,-365 573.5,-297 684.5,-297 684.5,-365\"/>\r\n",
       "<text text-anchor=\"middle\" x=\"629\" y=\"-349.8\" font-family=\"Times New Roman,serif\" font-size=\"14.00\">Income &lt;= 92.5</text>\r\n",
       "<text text-anchor=\"middle\" x=\"629\" y=\"-334.8\" font-family=\"Times New Roman,serif\" font-size=\"14.00\">samples = 214</text>\r\n",
       "<text text-anchor=\"middle\" x=\"629\" y=\"-319.8\" font-family=\"Times New Roman,serif\" font-size=\"14.00\">value = [162, 52]</text>\r\n",
       "<text text-anchor=\"middle\" x=\"629\" y=\"-304.8\" font-family=\"Times New Roman,serif\" font-size=\"14.00\">class = No</text>\r\n",
       "</g>\r\n",
       "<!-- 1&#45;&gt;9 -->\r\n",
       "<g id=\"edge9\" class=\"edge\"><title>1&#45;&gt;9</title>\r\n",
       "<path fill=\"none\" stroke=\"black\" d=\"M629,-400.884C629,-392.778 629,-383.982 629,-375.472\"/>\r\n",
       "<polygon fill=\"black\" stroke=\"black\" points=\"632.5,-375.299 629,-365.299 625.5,-375.299 632.5,-375.299\"/>\r\n",
       "</g>\r\n",
       "<!-- 3 -->\r\n",
       "<g id=\"node4\" class=\"node\"><title>3</title>\r\n",
       "<polygon fill=\"#e58139\" stroke=\"black\" points=\"208.5,-253.5 97.5,-253.5 97.5,-200.5 208.5,-200.5 208.5,-253.5\"/>\r\n",
       "<text text-anchor=\"middle\" x=\"153\" y=\"-238.3\" font-family=\"Times New Roman,serif\" font-size=\"14.00\">samples = 2553</text>\r\n",
       "<text text-anchor=\"middle\" x=\"153\" y=\"-223.3\" font-family=\"Times New Roman,serif\" font-size=\"14.00\">value = [2553, 0]</text>\r\n",
       "<text text-anchor=\"middle\" x=\"153\" y=\"-208.3\" font-family=\"Times New Roman,serif\" font-size=\"14.00\">class = No</text>\r\n",
       "</g>\r\n",
       "<!-- 2&#45;&gt;3 -->\r\n",
       "<g id=\"edge3\" class=\"edge\"><title>2&#45;&gt;3</title>\r\n",
       "<path fill=\"none\" stroke=\"black\" d=\"M238.091,-296.884C223.419,-285.006 206.916,-271.646 192.376,-259.876\"/>\r\n",
       "<polygon fill=\"black\" stroke=\"black\" points=\"194.499,-257.092 184.525,-253.52 190.095,-262.532 194.499,-257.092\"/>\r\n",
       "</g>\r\n",
       "<!-- 4 -->\r\n",
       "<g id=\"node5\" class=\"node\"><title>4</title>\r\n",
       "<polygon fill=\"#e89152\" stroke=\"black\" points=\"331,-261 227,-261 227,-193 331,-193 331,-261\"/>\r\n",
       "<text text-anchor=\"middle\" x=\"279\" y=\"-245.8\" font-family=\"Times New Roman,serif\" font-size=\"14.00\">Family &lt;= 3.5</text>\r\n",
       "<text text-anchor=\"middle\" x=\"279\" y=\"-230.8\" font-family=\"Times New Roman,serif\" font-size=\"14.00\">samples = 89</text>\r\n",
       "<text text-anchor=\"middle\" x=\"279\" y=\"-215.8\" font-family=\"Times New Roman,serif\" font-size=\"14.00\">value = [79, 10]</text>\r\n",
       "<text text-anchor=\"middle\" x=\"279\" y=\"-200.8\" font-family=\"Times New Roman,serif\" font-size=\"14.00\">class = No</text>\r\n",
       "</g>\r\n",
       "<!-- 2&#45;&gt;4 -->\r\n",
       "<g id=\"edge4\" class=\"edge\"><title>2&#45;&gt;4</title>\r\n",
       "<path fill=\"none\" stroke=\"black\" d=\"M279,-296.884C279,-288.778 279,-279.982 279,-271.472\"/>\r\n",
       "<polygon fill=\"black\" stroke=\"black\" points=\"282.5,-271.299 279,-261.299 275.5,-271.299 282.5,-271.299\"/>\r\n",
       "</g>\r\n",
       "<!-- 5 -->\r\n",
       "<g id=\"node6\" class=\"node\"><title>5</title>\r\n",
       "<polygon fill=\"#e68742\" stroke=\"black\" points=\"212,-157 114,-157 114,-89 212,-89 212,-157\"/>\r\n",
       "<text text-anchor=\"middle\" x=\"163\" y=\"-141.8\" font-family=\"Times New Roman,serif\" font-size=\"14.00\">Edu &lt;= 1.5</text>\r\n",
       "<text text-anchor=\"middle\" x=\"163\" y=\"-126.8\" font-family=\"Times New Roman,serif\" font-size=\"14.00\">samples = 66</text>\r\n",
       "<text text-anchor=\"middle\" x=\"163\" y=\"-111.8\" font-family=\"Times New Roman,serif\" font-size=\"14.00\">value = [63, 3]</text>\r\n",
       "<text text-anchor=\"middle\" x=\"163\" y=\"-96.8\" font-family=\"Times New Roman,serif\" font-size=\"14.00\">class = No</text>\r\n",
       "</g>\r\n",
       "<!-- 4&#45;&gt;5 -->\r\n",
       "<g id=\"edge5\" class=\"edge\"><title>4&#45;&gt;5</title>\r\n",
       "<path fill=\"none\" stroke=\"black\" d=\"M241.338,-192.884C230.904,-183.709 219.465,-173.65 208.63,-164.123\"/>\r\n",
       "<polygon fill=\"black\" stroke=\"black\" points=\"210.691,-161.274 200.87,-157.299 206.068,-166.531 210.691,-161.274\"/>\r\n",
       "</g>\r\n",
       "<!-- 8 -->\r\n",
       "<g id=\"node9\" class=\"node\"><title>8</title>\r\n",
       "<polygon fill=\"#f0b890\" stroke=\"black\" points=\"328,-149.5 230,-149.5 230,-96.5 328,-96.5 328,-149.5\"/>\r\n",
       "<text text-anchor=\"middle\" x=\"279\" y=\"-134.3\" font-family=\"Times New Roman,serif\" font-size=\"14.00\">samples = 23</text>\r\n",
       "<text text-anchor=\"middle\" x=\"279\" y=\"-119.3\" font-family=\"Times New Roman,serif\" font-size=\"14.00\">value = [16, 7]</text>\r\n",
       "<text text-anchor=\"middle\" x=\"279\" y=\"-104.3\" font-family=\"Times New Roman,serif\" font-size=\"14.00\">class = No</text>\r\n",
       "</g>\r\n",
       "<!-- 4&#45;&gt;8 -->\r\n",
       "<g id=\"edge8\" class=\"edge\"><title>4&#45;&gt;8</title>\r\n",
       "<path fill=\"none\" stroke=\"black\" d=\"M279,-192.884C279,-182.326 279,-170.597 279,-159.854\"/>\r\n",
       "<polygon fill=\"black\" stroke=\"black\" points=\"282.5,-159.52 279,-149.52 275.5,-159.52 282.5,-159.52\"/>\r\n",
       "</g>\r\n",
       "<!-- 6 -->\r\n",
       "<g id=\"node7\" class=\"node\"><title>6</title>\r\n",
       "<polygon fill=\"#e58139\" stroke=\"black\" points=\"98,-53 0,-53 0,-0 98,-0 98,-53\"/>\r\n",
       "<text text-anchor=\"middle\" x=\"49\" y=\"-37.8\" font-family=\"Times New Roman,serif\" font-size=\"14.00\">samples = 35</text>\r\n",
       "<text text-anchor=\"middle\" x=\"49\" y=\"-22.8\" font-family=\"Times New Roman,serif\" font-size=\"14.00\">value = [35, 0]</text>\r\n",
       "<text text-anchor=\"middle\" x=\"49\" y=\"-7.8\" font-family=\"Times New Roman,serif\" font-size=\"14.00\">class = No</text>\r\n",
       "</g>\r\n",
       "<!-- 5&#45;&gt;6 -->\r\n",
       "<g id=\"edge6\" class=\"edge\"><title>5&#45;&gt;6</title>\r\n",
       "<path fill=\"none\" stroke=\"black\" d=\"M123.128,-88.9485C111.762,-79.526 99.393,-69.2731 88.0743,-59.8906\"/>\r\n",
       "<polygon fill=\"black\" stroke=\"black\" points=\"89.9799,-56.924 80.0475,-53.2367 85.5126,-62.3132 89.9799,-56.924\"/>\r\n",
       "</g>\r\n",
       "<!-- 7 -->\r\n",
       "<g id=\"node8\" class=\"node\"><title>7</title>\r\n",
       "<polygon fill=\"#e88e4e\" stroke=\"black\" points=\"214,-53 116,-53 116,-0 214,-0 214,-53\"/>\r\n",
       "<text text-anchor=\"middle\" x=\"165\" y=\"-37.8\" font-family=\"Times New Roman,serif\" font-size=\"14.00\">samples = 31</text>\r\n",
       "<text text-anchor=\"middle\" x=\"165\" y=\"-22.8\" font-family=\"Times New Roman,serif\" font-size=\"14.00\">value = [28, 3]</text>\r\n",
       "<text text-anchor=\"middle\" x=\"165\" y=\"-7.8\" font-family=\"Times New Roman,serif\" font-size=\"14.00\">class = No</text>\r\n",
       "</g>\r\n",
       "<!-- 5&#45;&gt;7 -->\r\n",
       "<g id=\"edge7\" class=\"edge\"><title>5&#45;&gt;7</title>\r\n",
       "<path fill=\"none\" stroke=\"black\" d=\"M163.7,-88.9485C163.874,-80.7153 164.061,-71.848 164.238,-63.4814\"/>\r\n",
       "<polygon fill=\"black\" stroke=\"black\" points=\"167.743,-63.3086 164.455,-53.2367 160.744,-63.1604 167.743,-63.3086\"/>\r\n",
       "</g>\r\n",
       "<!-- 10 -->\r\n",
       "<g id=\"node11\" class=\"node\"><title>10</title>\r\n",
       "<polygon fill=\"#e89152\" stroke=\"black\" points=\"604.5,-261 493.5,-261 493.5,-193 604.5,-193 604.5,-261\"/>\r\n",
       "<text text-anchor=\"middle\" x=\"549\" y=\"-245.8\" font-family=\"Times New Roman,serif\" font-size=\"14.00\">CCAvg &lt;= 3.55</text>\r\n",
       "<text text-anchor=\"middle\" x=\"549\" y=\"-230.8\" font-family=\"Times New Roman,serif\" font-size=\"14.00\">samples = 132</text>\r\n",
       "<text text-anchor=\"middle\" x=\"549\" y=\"-215.8\" font-family=\"Times New Roman,serif\" font-size=\"14.00\">value = [117, 15]</text>\r\n",
       "<text text-anchor=\"middle\" x=\"549\" y=\"-200.8\" font-family=\"Times New Roman,serif\" font-size=\"14.00\">class = No</text>\r\n",
       "</g>\r\n",
       "<!-- 9&#45;&gt;10 -->\r\n",
       "<g id=\"edge10\" class=\"edge\"><title>9&#45;&gt;10</title>\r\n",
       "<path fill=\"none\" stroke=\"black\" d=\"M603.026,-296.884C596.11,-288.065 588.553,-278.43 581.341,-269.235\"/>\r\n",
       "<polygon fill=\"black\" stroke=\"black\" points=\"584.043,-267.008 575.117,-261.299 578.535,-271.328 584.043,-267.008\"/>\r\n",
       "</g>\r\n",
       "<!-- 17 -->\r\n",
       "<g id=\"node18\" class=\"node\"><title>17</title>\r\n",
       "<polygon fill=\"#fae9dc\" stroke=\"black\" points=\"775,-261 671,-261 671,-193 775,-193 775,-261\"/>\r\n",
       "<text text-anchor=\"middle\" x=\"723\" y=\"-245.8\" font-family=\"Times New Roman,serif\" font-size=\"14.00\">Edu &lt;= 1.5</text>\r\n",
       "<text text-anchor=\"middle\" x=\"723\" y=\"-230.8\" font-family=\"Times New Roman,serif\" font-size=\"14.00\">samples = 82</text>\r\n",
       "<text text-anchor=\"middle\" x=\"723\" y=\"-215.8\" font-family=\"Times New Roman,serif\" font-size=\"14.00\">value = [45, 37]</text>\r\n",
       "<text text-anchor=\"middle\" x=\"723\" y=\"-200.8\" font-family=\"Times New Roman,serif\" font-size=\"14.00\">class = No</text>\r\n",
       "</g>\r\n",
       "<!-- 9&#45;&gt;17 -->\r\n",
       "<g id=\"edge17\" class=\"edge\"><title>9&#45;&gt;17</title>\r\n",
       "<path fill=\"none\" stroke=\"black\" d=\"M659.519,-296.884C667.81,-287.887 676.884,-278.041 685.512,-268.678\"/>\r\n",
       "<polygon fill=\"black\" stroke=\"black\" points=\"688.109,-271.025 692.312,-261.299 682.962,-266.281 688.109,-271.025\"/>\r\n",
       "</g>\r\n",
       "<!-- 11 -->\r\n",
       "<g id=\"node12\" class=\"node\"><title>11</title>\r\n",
       "<polygon fill=\"#eca06a\" stroke=\"black\" points=\"453.5,-157 346.5,-157 346.5,-89 453.5,-89 453.5,-157\"/>\r\n",
       "<text text-anchor=\"middle\" x=\"400\" y=\"-141.8\" font-family=\"Times New Roman,serif\" font-size=\"14.00\">Income &lt;= 74.5</text>\r\n",
       "<text text-anchor=\"middle\" x=\"400\" y=\"-126.8\" font-family=\"Times New Roman,serif\" font-size=\"14.00\">samples = 50</text>\r\n",
       "<text text-anchor=\"middle\" x=\"400\" y=\"-111.8\" font-family=\"Times New Roman,serif\" font-size=\"14.00\">value = [40, 10]</text>\r\n",
       "<text text-anchor=\"middle\" x=\"400\" y=\"-96.8\" font-family=\"Times New Roman,serif\" font-size=\"14.00\">class = No</text>\r\n",
       "</g>\r\n",
       "<!-- 10&#45;&gt;11 -->\r\n",
       "<g id=\"edge11\" class=\"edge\"><title>10&#45;&gt;11</title>\r\n",
       "<path fill=\"none\" stroke=\"black\" d=\"M500.624,-192.884C486.63,-183.304 471.229,-172.761 456.773,-162.864\"/>\r\n",
       "<polygon fill=\"black\" stroke=\"black\" points=\"458.617,-159.885 448.388,-157.125 454.663,-165.662 458.617,-159.885\"/>\r\n",
       "</g>\r\n",
       "<!-- 14 -->\r\n",
       "<g id=\"node15\" class=\"node\"><title>14</title>\r\n",
       "<polygon fill=\"#e78946\" stroke=\"black\" points=\"602.5,-157 495.5,-157 495.5,-89 602.5,-89 602.5,-157\"/>\r\n",
       "<text text-anchor=\"middle\" x=\"549\" y=\"-141.8\" font-family=\"Times New Roman,serif\" font-size=\"14.00\">Income &lt;= 81.5</text>\r\n",
       "<text text-anchor=\"middle\" x=\"549\" y=\"-126.8\" font-family=\"Times New Roman,serif\" font-size=\"14.00\">samples = 82</text>\r\n",
       "<text text-anchor=\"middle\" x=\"549\" y=\"-111.8\" font-family=\"Times New Roman,serif\" font-size=\"14.00\">value = [77, 5]</text>\r\n",
       "<text text-anchor=\"middle\" x=\"549\" y=\"-96.8\" font-family=\"Times New Roman,serif\" font-size=\"14.00\">class = No</text>\r\n",
       "</g>\r\n",
       "<!-- 10&#45;&gt;14 -->\r\n",
       "<g id=\"edge14\" class=\"edge\"><title>10&#45;&gt;14</title>\r\n",
       "<path fill=\"none\" stroke=\"black\" d=\"M549,-192.884C549,-184.778 549,-175.982 549,-167.472\"/>\r\n",
       "<polygon fill=\"black\" stroke=\"black\" points=\"552.5,-167.299 549,-157.299 545.5,-167.299 552.5,-167.299\"/>\r\n",
       "</g>\r\n",
       "<!-- 12 -->\r\n",
       "<g id=\"node13\" class=\"node\"><title>12</title>\r\n",
       "<polygon fill=\"#e78d4c\" stroke=\"black\" points=\"332,-53 234,-53 234,-0 332,-0 332,-53\"/>\r\n",
       "<text text-anchor=\"middle\" x=\"283\" y=\"-37.8\" font-family=\"Times New Roman,serif\" font-size=\"14.00\">samples = 23</text>\r\n",
       "<text text-anchor=\"middle\" x=\"283\" y=\"-22.8\" font-family=\"Times New Roman,serif\" font-size=\"14.00\">value = [21, 2]</text>\r\n",
       "<text text-anchor=\"middle\" x=\"283\" y=\"-7.8\" font-family=\"Times New Roman,serif\" font-size=\"14.00\">class = No</text>\r\n",
       "</g>\r\n",
       "<!-- 11&#45;&gt;12 -->\r\n",
       "<g id=\"edge12\" class=\"edge\"><title>11&#45;&gt;12</title>\r\n",
       "<path fill=\"none\" stroke=\"black\" d=\"M359.079,-88.9485C347.3,-79.4346 334.473,-69.074 322.765,-59.6175\"/>\r\n",
       "<polygon fill=\"black\" stroke=\"black\" points=\"324.843,-56.7973 314.864,-53.2367 320.445,-62.2429 324.843,-56.7973\"/>\r\n",
       "</g>\r\n",
       "<!-- 13 -->\r\n",
       "<g id=\"node14\" class=\"node\"><title>13</title>\r\n",
       "<polygon fill=\"#f0b68c\" stroke=\"black\" points=\"448,-53 350,-53 350,-0 448,-0 448,-53\"/>\r\n",
       "<text text-anchor=\"middle\" x=\"399\" y=\"-37.8\" font-family=\"Times New Roman,serif\" font-size=\"14.00\">samples = 27</text>\r\n",
       "<text text-anchor=\"middle\" x=\"399\" y=\"-22.8\" font-family=\"Times New Roman,serif\" font-size=\"14.00\">value = [19, 8]</text>\r\n",
       "<text text-anchor=\"middle\" x=\"399\" y=\"-7.8\" font-family=\"Times New Roman,serif\" font-size=\"14.00\">class = No</text>\r\n",
       "</g>\r\n",
       "<!-- 11&#45;&gt;13 -->\r\n",
       "<g id=\"edge13\" class=\"edge\"><title>11&#45;&gt;13</title>\r\n",
       "<path fill=\"none\" stroke=\"black\" d=\"M399.65,-88.9485C399.563,-80.7153 399.469,-71.848 399.381,-63.4814\"/>\r\n",
       "<polygon fill=\"black\" stroke=\"black\" points=\"402.878,-63.1991 399.272,-53.2367 395.878,-63.2732 402.878,-63.1991\"/>\r\n",
       "</g>\r\n",
       "<!-- 15 -->\r\n",
       "<g id=\"node16\" class=\"node\"><title>15</title>\r\n",
       "<polygon fill=\"#e58139\" stroke=\"black\" points=\"564,-53 466,-53 466,-0 564,-0 564,-53\"/>\r\n",
       "<text text-anchor=\"middle\" x=\"515\" y=\"-37.8\" font-family=\"Times New Roman,serif\" font-size=\"14.00\">samples = 43</text>\r\n",
       "<text text-anchor=\"middle\" x=\"515\" y=\"-22.8\" font-family=\"Times New Roman,serif\" font-size=\"14.00\">value = [43, 0]</text>\r\n",
       "<text text-anchor=\"middle\" x=\"515\" y=\"-7.8\" font-family=\"Times New Roman,serif\" font-size=\"14.00\">class = No</text>\r\n",
       "</g>\r\n",
       "<!-- 14&#45;&gt;15 -->\r\n",
       "<g id=\"edge15\" class=\"edge\"><title>14&#45;&gt;15</title>\r\n",
       "<path fill=\"none\" stroke=\"black\" d=\"M537.108,-88.9485C534.047,-80.4408 530.743,-71.2562 527.645,-62.6464\"/>\r\n",
       "<polygon fill=\"black\" stroke=\"black\" points=\"530.939,-61.4613 524.26,-53.2367 524.352,-63.8311 530.939,-61.4613\"/>\r\n",
       "</g>\r\n",
       "<!-- 16 -->\r\n",
       "<g id=\"node17\" class=\"node\"><title>16</title>\r\n",
       "<polygon fill=\"#e99456\" stroke=\"black\" points=\"680,-53 582,-53 582,-0 680,-0 680,-53\"/>\r\n",
       "<text text-anchor=\"middle\" x=\"631\" y=\"-37.8\" font-family=\"Times New Roman,serif\" font-size=\"14.00\">samples = 39</text>\r\n",
       "<text text-anchor=\"middle\" x=\"631\" y=\"-22.8\" font-family=\"Times New Roman,serif\" font-size=\"14.00\">value = [34, 5]</text>\r\n",
       "<text text-anchor=\"middle\" x=\"631\" y=\"-7.8\" font-family=\"Times New Roman,serif\" font-size=\"14.00\">class = No</text>\r\n",
       "</g>\r\n",
       "<!-- 14&#45;&gt;16 -->\r\n",
       "<g id=\"edge16\" class=\"edge\"><title>14&#45;&gt;16</title>\r\n",
       "<path fill=\"none\" stroke=\"black\" d=\"M577.68,-88.9485C585.538,-79.892 594.062,-70.0682 601.942,-60.9875\"/>\r\n",
       "<polygon fill=\"black\" stroke=\"black\" points=\"604.757,-63.0835 608.668,-53.2367 599.47,-58.4958 604.757,-63.0835\"/>\r\n",
       "</g>\r\n",
       "<!-- 18 -->\r\n",
       "<g id=\"node19\" class=\"node\"><title>18</title>\r\n",
       "<polygon fill=\"#eca26d\" stroke=\"black\" points=\"784,-157 686,-157 686,-89 784,-89 784,-157\"/>\r\n",
       "<text text-anchor=\"middle\" x=\"735\" y=\"-141.8\" font-family=\"Times New Roman,serif\" font-size=\"14.00\">Family &lt;= 1.5</text>\r\n",
       "<text text-anchor=\"middle\" x=\"735\" y=\"-126.8\" font-family=\"Times New Roman,serif\" font-size=\"14.00\">samples = 43</text>\r\n",
       "<text text-anchor=\"middle\" x=\"735\" y=\"-111.8\" font-family=\"Times New Roman,serif\" font-size=\"14.00\">value = [34, 9]</text>\r\n",
       "<text text-anchor=\"middle\" x=\"735\" y=\"-96.8\" font-family=\"Times New Roman,serif\" font-size=\"14.00\">class = No</text>\r\n",
       "</g>\r\n",
       "<!-- 17&#45;&gt;18 -->\r\n",
       "<g id=\"edge18\" class=\"edge\"><title>17&#45;&gt;18</title>\r\n",
       "<path fill=\"none\" stroke=\"black\" d=\"M726.896,-192.884C727.85,-184.778 728.884,-175.982 729.886,-167.472\"/>\r\n",
       "<polygon fill=\"black\" stroke=\"black\" points=\"733.39,-167.64 731.082,-157.299 726.438,-166.822 733.39,-167.64\"/>\r\n",
       "</g>\r\n",
       "<!-- 21 -->\r\n",
       "<g id=\"node22\" class=\"node\"><title>21</title>\r\n",
       "<polygon fill=\"#87c4ef\" stroke=\"black\" points=\"906,-149.5 802,-149.5 802,-96.5 906,-96.5 906,-149.5\"/>\r\n",
       "<text text-anchor=\"middle\" x=\"854\" y=\"-134.3\" font-family=\"Times New Roman,serif\" font-size=\"14.00\">samples = 39</text>\r\n",
       "<text text-anchor=\"middle\" x=\"854\" y=\"-119.3\" font-family=\"Times New Roman,serif\" font-size=\"14.00\">value = [11, 28]</text>\r\n",
       "<text text-anchor=\"middle\" x=\"854\" y=\"-104.3\" font-family=\"Times New Roman,serif\" font-size=\"14.00\">class = Yes</text>\r\n",
       "</g>\r\n",
       "<!-- 17&#45;&gt;21 -->\r\n",
       "<g id=\"edge21\" class=\"edge\"><title>17&#45;&gt;21</title>\r\n",
       "<path fill=\"none\" stroke=\"black\" d=\"M765.532,-192.884C780.787,-181.006 797.944,-167.646 813.061,-155.876\"/>\r\n",
       "<polygon fill=\"black\" stroke=\"black\" points=\"815.484,-158.425 821.224,-149.52 811.184,-152.902 815.484,-158.425\"/>\r\n",
       "</g>\r\n",
       "<!-- 19 -->\r\n",
       "<g id=\"node20\" class=\"node\"><title>19</title>\r\n",
       "<polygon fill=\"#e99558\" stroke=\"black\" points=\"796,-53 698,-53 698,-0 796,-0 796,-53\"/>\r\n",
       "<text text-anchor=\"middle\" x=\"747\" y=\"-37.8\" font-family=\"Times New Roman,serif\" font-size=\"14.00\">samples = 22</text>\r\n",
       "<text text-anchor=\"middle\" x=\"747\" y=\"-22.8\" font-family=\"Times New Roman,serif\" font-size=\"14.00\">value = [19, 3]</text>\r\n",
       "<text text-anchor=\"middle\" x=\"747\" y=\"-7.8\" font-family=\"Times New Roman,serif\" font-size=\"14.00\">class = No</text>\r\n",
       "</g>\r\n",
       "<!-- 18&#45;&gt;19 -->\r\n",
       "<g id=\"edge19\" class=\"edge\"><title>18&#45;&gt;19</title>\r\n",
       "<path fill=\"none\" stroke=\"black\" d=\"M739.197,-88.9485C740.254,-80.6238 741.394,-71.6509 742.466,-63.2027\"/>\r\n",
       "<polygon fill=\"black\" stroke=\"black\" points=\"745.944,-63.598 743.732,-53.2367 739,-62.7161 745.944,-63.598\"/>\r\n",
       "</g>\r\n",
       "<!-- 20 -->\r\n",
       "<g id=\"node21\" class=\"node\"><title>20</title>\r\n",
       "<polygon fill=\"#efb388\" stroke=\"black\" points=\"912,-53 814,-53 814,-0 912,-0 912,-53\"/>\r\n",
       "<text text-anchor=\"middle\" x=\"863\" y=\"-37.8\" font-family=\"Times New Roman,serif\" font-size=\"14.00\">samples = 21</text>\r\n",
       "<text text-anchor=\"middle\" x=\"863\" y=\"-22.8\" font-family=\"Times New Roman,serif\" font-size=\"14.00\">value = [15, 6]</text>\r\n",
       "<text text-anchor=\"middle\" x=\"863\" y=\"-7.8\" font-family=\"Times New Roman,serif\" font-size=\"14.00\">class = No</text>\r\n",
       "</g>\r\n",
       "<!-- 18&#45;&gt;20 -->\r\n",
       "<g id=\"edge20\" class=\"edge\"><title>18&#45;&gt;20</title>\r\n",
       "<path fill=\"none\" stroke=\"black\" d=\"M779.768,-88.9485C792.779,-79.3431 806.958,-68.8747 819.866,-59.345\"/>\r\n",
       "<polygon fill=\"black\" stroke=\"black\" points=\"822.173,-61.992 828.14,-53.2367 818.016,-56.3605 822.173,-61.992\"/>\r\n",
       "</g>\r\n",
       "<!-- 23 -->\r\n",
       "<g id=\"node24\" class=\"node\"><title>23</title>\r\n",
       "<polygon fill=\"#e89152\" stroke=\"black\" points=\"900.5,-365 789.5,-365 789.5,-297 900.5,-297 900.5,-365\"/>\r\n",
       "<text text-anchor=\"middle\" x=\"845\" y=\"-349.8\" font-family=\"Times New Roman,serif\" font-size=\"14.00\">Family &lt;= 2.5</text>\r\n",
       "<text text-anchor=\"middle\" x=\"845\" y=\"-334.8\" font-family=\"Times New Roman,serif\" font-size=\"14.00\">samples = 422</text>\r\n",
       "<text text-anchor=\"middle\" x=\"845\" y=\"-319.8\" font-family=\"Times New Roman,serif\" font-size=\"14.00\">value = [375, 47]</text>\r\n",
       "<text text-anchor=\"middle\" x=\"845\" y=\"-304.8\" font-family=\"Times New Roman,serif\" font-size=\"14.00\">class = No</text>\r\n",
       "</g>\r\n",
       "<!-- 22&#45;&gt;23 -->\r\n",
       "<g id=\"edge23\" class=\"edge\"><title>22&#45;&gt;23</title>\r\n",
       "<path fill=\"none\" stroke=\"black\" d=\"M845,-400.884C845,-392.778 845,-383.982 845,-375.472\"/>\r\n",
       "<polygon fill=\"black\" stroke=\"black\" points=\"848.5,-375.299 845,-365.299 841.5,-375.299 848.5,-375.299\"/>\r\n",
       "</g>\r\n",
       "<!-- 26 -->\r\n",
       "<g id=\"node27\" class=\"node\"><title>26</title>\r\n",
       "<polygon fill=\"#399de5\" stroke=\"black\" points=\"1023,-357.5 919,-357.5 919,-304.5 1023,-304.5 1023,-357.5\"/>\r\n",
       "<text text-anchor=\"middle\" x=\"971\" y=\"-342.3\" font-family=\"Times New Roman,serif\" font-size=\"14.00\">samples = 222</text>\r\n",
       "<text text-anchor=\"middle\" x=\"971\" y=\"-327.3\" font-family=\"Times New Roman,serif\" font-size=\"14.00\">value = [0, 222]</text>\r\n",
       "<text text-anchor=\"middle\" x=\"971\" y=\"-312.3\" font-family=\"Times New Roman,serif\" font-size=\"14.00\">class = Yes</text>\r\n",
       "</g>\r\n",
       "<!-- 22&#45;&gt;26 -->\r\n",
       "<g id=\"edge26\" class=\"edge\"><title>22&#45;&gt;26</title>\r\n",
       "<path fill=\"none\" stroke=\"black\" d=\"M885.909,-400.884C900.581,-389.006 917.084,-375.646 931.624,-363.876\"/>\r\n",
       "<polygon fill=\"black\" stroke=\"black\" points=\"933.905,-366.532 939.475,-357.52 929.501,-361.092 933.905,-366.532\"/>\r\n",
       "</g>\r\n",
       "<!-- 24 -->\r\n",
       "<g id=\"node25\" class=\"node\"><title>24</title>\r\n",
       "<polygon fill=\"#e58139\" stroke=\"black\" points=\"897,-253.5 793,-253.5 793,-200.5 897,-200.5 897,-253.5\"/>\r\n",
       "<text text-anchor=\"middle\" x=\"845\" y=\"-238.3\" font-family=\"Times New Roman,serif\" font-size=\"14.00\">samples = 375</text>\r\n",
       "<text text-anchor=\"middle\" x=\"845\" y=\"-223.3\" font-family=\"Times New Roman,serif\" font-size=\"14.00\">value = [375, 0]</text>\r\n",
       "<text text-anchor=\"middle\" x=\"845\" y=\"-208.3\" font-family=\"Times New Roman,serif\" font-size=\"14.00\">class = No</text>\r\n",
       "</g>\r\n",
       "<!-- 23&#45;&gt;24 -->\r\n",
       "<g id=\"edge24\" class=\"edge\"><title>23&#45;&gt;24</title>\r\n",
       "<path fill=\"none\" stroke=\"black\" d=\"M845,-296.884C845,-286.326 845,-274.597 845,-263.854\"/>\r\n",
       "<polygon fill=\"black\" stroke=\"black\" points=\"848.5,-263.52 845,-253.52 841.5,-263.52 848.5,-263.52\"/>\r\n",
       "</g>\r\n",
       "<!-- 25 -->\r\n",
       "<g id=\"node26\" class=\"node\"><title>25</title>\r\n",
       "<polygon fill=\"#399de5\" stroke=\"black\" points=\"1013,-253.5 915,-253.5 915,-200.5 1013,-200.5 1013,-253.5\"/>\r\n",
       "<text text-anchor=\"middle\" x=\"964\" y=\"-238.3\" font-family=\"Times New Roman,serif\" font-size=\"14.00\">samples = 47</text>\r\n",
       "<text text-anchor=\"middle\" x=\"964\" y=\"-223.3\" font-family=\"Times New Roman,serif\" font-size=\"14.00\">value = [0, 47]</text>\r\n",
       "<text text-anchor=\"middle\" x=\"964\" y=\"-208.3\" font-family=\"Times New Roman,serif\" font-size=\"14.00\">class = Yes</text>\r\n",
       "</g>\r\n",
       "<!-- 23&#45;&gt;25 -->\r\n",
       "<g id=\"edge25\" class=\"edge\"><title>23&#45;&gt;25</title>\r\n",
       "<path fill=\"none\" stroke=\"black\" d=\"M883.636,-296.884C897.365,-285.116 912.791,-271.894 926.429,-260.203\"/>\r\n",
       "<polygon fill=\"black\" stroke=\"black\" points=\"928.912,-262.685 934.227,-253.52 924.356,-257.37 928.912,-262.685\"/>\r\n",
       "</g>\r\n",
       "</g>\r\n",
       "</svg>\r\n"
      ],
      "text/plain": [
       "<graphviz.files.Source at 0x21dbb5ee388>"
      ]
     },
     "metadata": {
      "tags": []
     },
     "output_type": "display_data"
    }
   ],
   "source": [
    "display(graphviz.Source(dot_graph))"
   ]
  },
  {
   "cell_type": "markdown",
   "metadata": {
    "colab_type": "text",
    "id": "3z3D6MHsBuPa"
   },
   "source": [
    "## 나무모형 이미지로 저장"
   ]
  },
  {
   "cell_type": "code",
   "execution_count": 0,
   "metadata": {
    "colab": {},
    "colab_type": "code",
    "id": "5zDe8LerBuPa"
   },
   "outputs": [],
   "source": [
    "import pydot\n",
    "# os.mkdir('./image')"
   ]
  },
  {
   "cell_type": "code",
   "execution_count": 0,
   "metadata": {
    "colab": {},
    "colab_type": "code",
    "id": "-Xp25rOfBuPd",
    "scrolled": true
   },
   "outputs": [],
   "source": [
    "(graph,) = pydot.graph_from_dot_file('./image/tree_bank.dot')"
   ]
  },
  {
   "cell_type": "code",
   "execution_count": 0,
   "metadata": {
    "colab": {},
    "colab_type": "code",
    "id": "0oRGgwtsBuPg"
   },
   "outputs": [],
   "source": [
    "graph.write_png('./image/tree_bank.png')"
   ]
  },
  {
   "cell_type": "code",
   "execution_count": 0,
   "metadata": {
    "colab": {},
    "colab_type": "code",
    "id": "Vz4BHn5EBuPj"
   },
   "outputs": [],
   "source": [
    "from IPython.display import Image"
   ]
  },
  {
   "cell_type": "code",
   "execution_count": 0,
   "metadata": {
    "colab": {},
    "colab_type": "code",
    "id": "T9pn9ljzBuPm",
    "outputId": "38c8e486-8dd0-45e3-9017-7572966648b3"
   },
   "outputs": [
    {
     "data": {
      "image/png": "[encoded data removed]",
      "text/plain": [
       "<IPython.core.display.Image object>"
      ]
     },
     "execution_count": 111,
     "metadata": {
      "tags": []
     },
     "output_type": "execute_result"
    }
   ],
   "source": [
    "Image('./image/tree_bank.png')"
   ]
  },
  {
   "cell_type": "markdown",
   "metadata": {
    "colab_type": "text",
    "id": "-OQSuArcBuPp"
   },
   "source": [
    "## 변수의 중요도 시각화"
   ]
  },
  {
   "cell_type": "code",
   "execution_count": 0,
   "metadata": {
    "colab": {},
    "colab_type": "code",
    "id": "zCxuC5M1BuPq"
   },
   "outputs": [],
   "source": [
    "n_feature = bank.shape[1] - 1"
   ]
  },
  {
   "cell_type": "code",
   "execution_count": 0,
   "metadata": {
    "colab": {},
    "colab_type": "code",
    "id": "VlJc-dUmBuPt"
   },
   "outputs": [],
   "source": [
    "importance = tree.feature_importances_"
   ]
  },
  {
   "cell_type": "code",
   "execution_count": 0,
   "metadata": {
    "colab": {},
    "colab_type": "code",
    "id": "6zmm2F_HBuPw",
    "outputId": "503b1a0b-ae85-4cb2-9729-f13b91324d99"
   },
   "outputs": [
    {
     "data": {
      "image/png": "[encoded data removed]",
      "text/plain": [
       "<Figure size 432x288 with 1 Axes>"
      ]
     },
     "metadata": {
      "needs_background": "light",
      "tags": []
     },
     "output_type": "display_data"
    }
   ],
   "source": [
    "plt.barh(np.arange(n_feature), importance, align = 'center')\n",
    "plt.yticks(np.arange(n_feature), bank.columns[:11])\n",
    "plt.xlabel('Feature Importances')\n",
    "plt.ylabel('Feature')\n",
    "plt.ylim(-1, n_feature)\n",
    "plt.show()"
   ]
  },
  {
   "cell_type": "markdown",
   "metadata": {
    "colab_type": "text",
    "id": "M8bWoHaaBuPz"
   },
   "source": [
    "## 분류모형의 성능 확인"
   ]
  },
  {
   "cell_type": "code",
   "execution_count": 0,
   "metadata": {
    "colab": {},
    "colab_type": "code",
    "id": "V8hNDRovBuPz"
   },
   "outputs": [],
   "source": [
    "pred = tree.predict(X_test)"
   ]
  },
  {
   "cell_type": "code",
   "execution_count": 0,
   "metadata": {
    "colab": {},
    "colab_type": "code",
    "id": "I6uqGu7hBuP3",
    "outputId": "236b7bf5-f04a-4f54-f618-68f45ec088df"
   },
   "outputs": [
    {
     "data": {
      "text/plain": [
       "0    1351\n",
       "1     149\n",
       "Name: PLoan, dtype: int64"
      ]
     },
     "execution_count": 116,
     "metadata": {
      "tags": []
     },
     "output_type": "execute_result"
    }
   ],
   "source": [
    "y_test.value_counts()"
   ]
  },
  {
   "cell_type": "code",
   "execution_count": 0,
   "metadata": {
    "colab": {},
    "colab_type": "code",
    "id": "mqsoM86_BuP6",
    "outputId": "77378095-85b1-4590-8ff5-a71f100b5d1b"
   },
   "outputs": [
    {
     "data": {
      "text/plain": [
       "array([[ 126,   23],\n",
       "       [   7, 1344]], dtype=int64)"
      ]
     },
     "execution_count": 117,
     "metadata": {
      "tags": []
     },
     "output_type": "execute_result"
    }
   ],
   "source": [
    "confusion_matrix(y_test, pred, labels = [1, 0])"
   ]
  },
  {
   "cell_type": "code",
   "execution_count": 0,
   "metadata": {
    "colab": {},
    "colab_type": "code",
    "id": "QlyUPSyqBuP-",
    "outputId": "f7e6d996-b78f-4140-8531-aa47a9cb8129"
   },
   "outputs": [
    {
     "data": {
      "text/plain": [
       "0.98"
      ]
     },
     "execution_count": 118,
     "metadata": {
      "tags": []
     },
     "output_type": "execute_result"
    }
   ],
   "source": [
    "accuracy_score(y_test, pred)"
   ]
  },
  {
   "cell_type": "code",
   "execution_count": 0,
   "metadata": {
    "colab": {},
    "colab_type": "code",
    "id": "nTmCMg3dBuQF",
    "outputId": "19310b25-ad58-4756-86e5-8a40d5b5172f"
   },
   "outputs": [
    {
     "data": {
      "text/plain": [
       "0.9473684210526315"
      ]
     },
     "execution_count": 119,
     "metadata": {
      "tags": []
     },
     "output_type": "execute_result"
    }
   ],
   "source": [
    "precision_score(y_test, pred, labels = [1, 0])"
   ]
  },
  {
   "cell_type": "code",
   "execution_count": 0,
   "metadata": {
    "colab": {},
    "colab_type": "code",
    "id": "S_COvhA9BuQL",
    "outputId": "a6c92e5d-22e2-4264-d051-e910df450be4"
   },
   "outputs": [
    {
     "data": {
      "text/plain": [
       "0.8456375838926175"
      ]
     },
     "execution_count": 120,
     "metadata": {
      "tags": []
     },
     "output_type": "execute_result"
    }
   ],
   "source": [
    "recall_score(y_test, pred, labels = [1, 0])"
   ]
  },
  {
   "cell_type": "code",
   "execution_count": 0,
   "metadata": {
    "colab": {},
    "colab_type": "code",
    "id": "BZDZfRefBuQP",
    "outputId": "db5545a9-6899-429c-b69e-81ec5f41babd"
   },
   "outputs": [
    {
     "data": {
      "text/plain": [
       "0.8936170212765957"
      ]
     },
     "execution_count": 121,
     "metadata": {
      "tags": []
     },
     "output_type": "execute_result"
    }
   ],
   "source": [
    "f1_score(y_test, pred, labels = [1, 0])"
   ]
  },
  {
   "cell_type": "markdown",
   "metadata": {
    "colab_type": "text",
    "id": "FJLwvXRMBuQV"
   },
   "source": [
    "## ROC 곡선과 AUC"
   ]
  },
  {
   "cell_type": "code",
   "execution_count": 0,
   "metadata": {
    "colab": {},
    "colab_type": "code",
    "id": "sQxM1vLzBuQW"
   },
   "outputs": [],
   "source": [
    "proba = tree.predict_proba(X_test)[:, 1]"
   ]
  },
  {
   "cell_type": "code",
   "execution_count": 0,
   "metadata": {
    "colab": {},
    "colab_type": "code",
    "id": "7UXEdsrWBuQd"
   },
   "outputs": [],
   "source": [
    "fprs, tprs, thresholds = roc_curve(y_test, proba)"
   ]
  },
  {
   "cell_type": "code",
   "execution_count": 0,
   "metadata": {
    "colab": {},
    "colab_type": "code",
    "id": "NGMMcXb3BuQj",
    "outputId": "50f69302-5e36-4a0f-fd5c-3f48f810d269"
   },
   "outputs": [
    {
     "data": {
      "image/png": "[encoded data removed]",
      "text/plain": [
       "<Figure size 432x288 with 1 Axes>"
      ]
     },
     "metadata": {
      "needs_background": "light",
      "tags": []
     },
     "output_type": "display_data"
    }
   ],
   "source": [
    "plt.plot(fprs, tprs, label = 'ROC')\n",
    "plt.plot([0, 1], [0, 1], 'r--', label = 'Random')\n",
    "plt.xlabel('FPR')\n",
    "plt.ylabel('TPR')\n",
    "plt.legend(loc = 'lower right')\n",
    "plt.show()"
   ]
  },
  {
   "cell_type": "code",
   "execution_count": 0,
   "metadata": {
    "colab": {},
    "colab_type": "code",
    "id": "zCngR5K1BuQo",
    "outputId": "a66e0e94-c5f6-468c-e33e-708528598ffa"
   },
   "outputs": [
    {
     "data": {
      "text/plain": [
       "0.9202281183711791"
      ]
     },
     "execution_count": 125,
     "metadata": {
      "tags": []
     },
     "output_type": "execute_result"
    }
   ],
   "source": [
    "roc_auc_score(y_test, pred)"
   ]
  },
  {
   "cell_type": "markdown",
   "metadata": {
    "colab_type": "text",
    "id": "d1rsXRa-BuQx"
   },
   "source": [
    "## End of Document"
   ]
  },
  {
   "cell_type": "code",
   "execution_count": 0,
   "metadata": {
    "colab": {},
    "colab_type": "code",
    "id": "pdGktAVvBuQy"
   },
   "outputs": [],
   "source": [
    "# 수고했어요 오늘도~"
   ]
  }
 ],
 "metadata": {
  "colab": {
   "collapsed_sections": [
    "x6iqbdZfBuOy",
    "fU-RZaqvBuO_",
    "OQUApm-bBuPQ",
    "3z3D6MHsBuPa",
    "-OQSuArcBuPp",
    "M8bWoHaaBuPz",
    "FJLwvXRMBuQV",
    "d1rsXRa-BuQx"
   ],
   "name": "Python Model Fitting.ipynb",
   "provenance": []
  },
  "kernelspec": {
   "display_name": "Python 3",
   "language": "python",
   "name": "python3"
  },
  "language_info": {
   "codemirror_mode": {
    "name": "ipython",
    "version": 3
   },
   "file_extension": ".py",
   "mimetype": "text/x-python",
   "name": "python",
   "nbconvert_exporter": "python",
   "pygments_lexer": "ipython3",
   "version": "3.7.6"
  }
 },
 "nbformat": 4,
 "nbformat_minor": 1
}
