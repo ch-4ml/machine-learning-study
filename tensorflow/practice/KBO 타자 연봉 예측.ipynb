{
 "cells": [
  {
   "cell_type": "markdown",
   "metadata": {},
   "source": [
    "# 1991 ~ 2018 KBO 타자 데이터를 이용한 연봉 예측"
   ]
  },
  {
   "cell_type": "markdown",
   "metadata": {},
   "source": [
    "### 바로가기"
   ]
  },
  {
   "cell_type": "code",
   "execution_count": null,
   "metadata": {},
   "outputs": [],
   "source": []
  },
  {
   "cell_type": "markdown",
   "metadata": {},
   "source": [
    "-----"
   ]
  },
  {
   "cell_type": "markdown",
   "metadata": {},
   "source": [
    "### 필요한 라이브러리 import"
   ]
  },
  {
   "cell_type": "code",
   "execution_count": 273,
   "metadata": {},
   "outputs": [],
   "source": [
    "%matplotlib inline\n",
    "\n",
    "import pandas as pd\n",
    "import numpy as np\n",
    "import matplotlib as mpl\n",
    "import matplotlib.pyplot as plt\n",
    "\n",
    "import warnings\n",
    "warnings.filterwarnings(\"ignore\")\n",
    "\n",
    "mpl.rc('font', family='NanumGothic')  # matplotlib에서 한글 폰트로 NanumGothic을 사용"
   ]
  },
  {
   "cell_type": "markdown",
   "metadata": {},
   "source": [
    "# 1. 데이터 불러오기\n",
    "\n",
    "[원본 데이터(kaggle.com)](https://www.kaggle.com/bluemumin/kbo-baseball-for-kaggle)"
   ]
  },
  {
   "cell_type": "code",
   "execution_count": 275,
   "metadata": {},
   "outputs": [
    {
     "data": {
      "text/plain": [
       "Index(['Batter_Name', 'Age', 'G', 'PA', 'AB', 'R', 'H', '1B', '2B', '3B', 'HR',\n",
       "       'TB', 'RBI', 'SB', 'CS', 'BB', 'HBP', 'FBP', 'IBB', 'SO', 'GDP', 'SAC',\n",
       "       'SF', 'Year', 'Salary', 'WAR', 'Year_Born', 'Hand', 'CP', 'TP', 'AVG',\n",
       "       'OBP', 'SLG', 'OPS', 'P_Year', 'YAB', 'YOPS'],\n",
       "      dtype='object')"
      ]
     },
     "execution_count": 275,
     "metadata": {},
     "output_type": "execute_result"
    }
   ],
   "source": [
    "batter = pd.read_csv('./data/1990_2018_KBO_Batter.csv')\n",
    "batter.columns"
   ]
  },
  {
   "cell_type": "code",
   "execution_count": 276,
   "metadata": {},
   "outputs": [
    {
     "data": {
      "text/html": [
       "<div>\n",
       "<style scoped>\n",
       "    .dataframe tbody tr th:only-of-type {\n",
       "        vertical-align: middle;\n",
       "    }\n",
       "\n",
       "    .dataframe tbody tr th {\n",
       "        vertical-align: top;\n",
       "    }\n",
       "\n",
       "    .dataframe thead th {\n",
       "        text-align: right;\n",
       "    }\n",
       "</style>\n",
       "<table border=\"1\" class=\"dataframe\">\n",
       "  <thead>\n",
       "    <tr style=\"text-align: right;\">\n",
       "      <th></th>\n",
       "      <th>Batter_Name</th>\n",
       "      <th>Age</th>\n",
       "      <th>G</th>\n",
       "      <th>PA</th>\n",
       "      <th>AB</th>\n",
       "      <th>R</th>\n",
       "      <th>H</th>\n",
       "      <th>1B</th>\n",
       "      <th>2B</th>\n",
       "      <th>3B</th>\n",
       "      <th>...</th>\n",
       "      <th>Hand</th>\n",
       "      <th>CP</th>\n",
       "      <th>TP</th>\n",
       "      <th>AVG</th>\n",
       "      <th>OBP</th>\n",
       "      <th>SLG</th>\n",
       "      <th>OPS</th>\n",
       "      <th>P_Year</th>\n",
       "      <th>YAB</th>\n",
       "      <th>YOPS</th>\n",
       "    </tr>\n",
       "  </thead>\n",
       "  <tbody>\n",
       "    <tr>\n",
       "      <th>0</th>\n",
       "      <td>백용환</td>\n",
       "      <td>24</td>\n",
       "      <td>26</td>\n",
       "      <td>58</td>\n",
       "      <td>52</td>\n",
       "      <td>4</td>\n",
       "      <td>9</td>\n",
       "      <td>5</td>\n",
       "      <td>4</td>\n",
       "      <td>0</td>\n",
       "      <td>...</td>\n",
       "      <td>우타우투</td>\n",
       "      <td>포수</td>\n",
       "      <td>포수</td>\n",
       "      <td>0.173</td>\n",
       "      <td>0.259</td>\n",
       "      <td>0.250</td>\n",
       "      <td>0.509</td>\n",
       "      <td>2014</td>\n",
       "      <td>79</td>\n",
       "      <td>0.580</td>\n",
       "    </tr>\n",
       "    <tr>\n",
       "      <th>1</th>\n",
       "      <td>백용환</td>\n",
       "      <td>25</td>\n",
       "      <td>47</td>\n",
       "      <td>86</td>\n",
       "      <td>79</td>\n",
       "      <td>8</td>\n",
       "      <td>14</td>\n",
       "      <td>8</td>\n",
       "      <td>2</td>\n",
       "      <td>0</td>\n",
       "      <td>...</td>\n",
       "      <td>우타우투</td>\n",
       "      <td>포수</td>\n",
       "      <td>포수</td>\n",
       "      <td>0.177</td>\n",
       "      <td>0.226</td>\n",
       "      <td>0.354</td>\n",
       "      <td>0.580</td>\n",
       "      <td>2015</td>\n",
       "      <td>154</td>\n",
       "      <td>0.784</td>\n",
       "    </tr>\n",
       "    <tr>\n",
       "      <th>2</th>\n",
       "      <td>백용환</td>\n",
       "      <td>26</td>\n",
       "      <td>65</td>\n",
       "      <td>177</td>\n",
       "      <td>154</td>\n",
       "      <td>22</td>\n",
       "      <td>36</td>\n",
       "      <td>20</td>\n",
       "      <td>6</td>\n",
       "      <td>0</td>\n",
       "      <td>...</td>\n",
       "      <td>우타우투</td>\n",
       "      <td>포수</td>\n",
       "      <td>포수</td>\n",
       "      <td>0.234</td>\n",
       "      <td>0.316</td>\n",
       "      <td>0.468</td>\n",
       "      <td>0.784</td>\n",
       "      <td>2016</td>\n",
       "      <td>174</td>\n",
       "      <td>0.581</td>\n",
       "    </tr>\n",
       "    <tr>\n",
       "      <th>3</th>\n",
       "      <td>백용환</td>\n",
       "      <td>27</td>\n",
       "      <td>80</td>\n",
       "      <td>199</td>\n",
       "      <td>174</td>\n",
       "      <td>12</td>\n",
       "      <td>34</td>\n",
       "      <td>23</td>\n",
       "      <td>7</td>\n",
       "      <td>0</td>\n",
       "      <td>...</td>\n",
       "      <td>우타우투</td>\n",
       "      <td>포수</td>\n",
       "      <td>포수</td>\n",
       "      <td>0.195</td>\n",
       "      <td>0.276</td>\n",
       "      <td>0.305</td>\n",
       "      <td>0.581</td>\n",
       "      <td>2017</td>\n",
       "      <td>17</td>\n",
       "      <td>0.476</td>\n",
       "    </tr>\n",
       "    <tr>\n",
       "      <th>4</th>\n",
       "      <td>백용환</td>\n",
       "      <td>28</td>\n",
       "      <td>15</td>\n",
       "      <td>20</td>\n",
       "      <td>17</td>\n",
       "      <td>2</td>\n",
       "      <td>3</td>\n",
       "      <td>3</td>\n",
       "      <td>0</td>\n",
       "      <td>0</td>\n",
       "      <td>...</td>\n",
       "      <td>우타우투</td>\n",
       "      <td>포수</td>\n",
       "      <td>포수</td>\n",
       "      <td>0.176</td>\n",
       "      <td>0.300</td>\n",
       "      <td>0.176</td>\n",
       "      <td>0.476</td>\n",
       "      <td>2018</td>\n",
       "      <td>47</td>\n",
       "      <td>0.691</td>\n",
       "    </tr>\n",
       "  </tbody>\n",
       "</table>\n",
       "<p>5 rows × 37 columns</p>\n",
       "</div>"
      ],
      "text/plain": [
       "  Batter_Name  Age   G   PA   AB   R   H  1B  2B  3B  ...  Hand  CP  TP  \\\n",
       "0         백용환   24  26   58   52   4   9   5   4   0  ...  우타우투  포수  포수   \n",
       "1         백용환   25  47   86   79   8  14   8   2   0  ...  우타우투  포수  포수   \n",
       "2         백용환   26  65  177  154  22  36  20   6   0  ...  우타우투  포수  포수   \n",
       "3         백용환   27  80  199  174  12  34  23   7   0  ...  우타우투  포수  포수   \n",
       "4         백용환   28  15   20   17   2   3   3   0   0  ...  우타우투  포수  포수   \n",
       "\n",
       "     AVG    OBP    SLG    OPS  P_Year  YAB   YOPS  \n",
       "0  0.173  0.259  0.250  0.509    2014   79  0.580  \n",
       "1  0.177  0.226  0.354  0.580    2015  154  0.784  \n",
       "2  0.234  0.316  0.468  0.784    2016  174  0.581  \n",
       "3  0.195  0.276  0.305  0.581    2017   17  0.476  \n",
       "4  0.176  0.300  0.176  0.476    2018   47  0.691  \n",
       "\n",
       "[5 rows x 37 columns]"
      ]
     },
     "execution_count": 276,
     "metadata": {},
     "output_type": "execute_result"
    }
   ],
   "source": [
    "batter.head()"
   ]
  },
  {
   "cell_type": "markdown",
   "metadata": {},
   "source": [
    "### 속성 정리\n",
    "\n",
    "G 게임 수 | Age 나이 | PA 타석 | AB 타수 | R 득점 | H 안타 | 1B 1루타 | 2B 2루타 | 3B 3루타 | HR 홈런 | TB 총 루타 수 | RBI 타점 | SB 도루 성공 | \n",
    "\n",
    "CS 도루 실패 | FBP(BB + HBP) | BB 볼넷 수 | HBP 몸에 맞는 공 | IBB 고의 사구 | SO 삼진 | GDP 병살 | SAC 희생타 | SF 희생 플라이 | Year 해당 시즌 | \n",
    "\n",
    "Salary 해당 시즌의 연봉 | WAR 대체 선수 대비 승리 기여도 | Year_Born 선수 출생일 | Hand 타석 위치 | CP 최근 포지션 | TP 통합 포지션 | AVG 타율 | \n",
    "\n",
    "OBP 출루율 | SLG 장타율 | OPS(OBP + SLG) | P_Year 다음 시즌 | YAB 다음 시즌 타석 수 | YOPS 다음 시즌 OPS\n",
    "\n"
   ]
  },
  {
   "cell_type": "code",
   "execution_count": 277,
   "metadata": {},
   "outputs": [
    {
     "name": "stdout",
     "output_type": "stream",
     "text": [
      "(1913, 37)\n"
     ]
    }
   ],
   "source": [
    "print(batter.shape)"
   ]
  },
  {
   "cell_type": "markdown",
   "metadata": {},
   "source": [
    "<b>연봉 정보</b>"
   ]
  },
  {
   "cell_type": "code",
   "execution_count": 278,
   "metadata": {},
   "outputs": [
    {
     "data": {
      "text/plain": [
       "count      1913.000000\n",
       "mean      14112.135389\n",
       "std       22446.615221\n",
       "min        1700.000000\n",
       "25%        2700.000000\n",
       "50%        5300.000000\n",
       "75%       15000.000000\n",
       "max      250000.000000\n",
       "Name: Salary, dtype: float64"
      ]
     },
     "execution_count": 278,
     "metadata": {},
     "output_type": "execute_result"
    }
   ],
   "source": [
    "batter['Salary'].describe()  # 단위: 만 원"
   ]
  },
  {
   "cell_type": "code",
   "execution_count": 279,
   "metadata": {
    "scrolled": true
   },
   "outputs": [
    {
     "data": {
      "text/plain": [
       "<matplotlib.axes._subplots.AxesSubplot at 0x2226d548b88>"
      ]
     },
     "execution_count": 279,
     "metadata": {},
     "output_type": "execute_result"
    },
    {
     "data": {
      "image/png": "[encoded data removed]",
      "text/plain": [
       "<Figure size 432x288 with 1 Axes>"
      ]
     },
     "metadata": {
      "needs_background": "light"
     },
     "output_type": "display_data"
    }
   ],
   "source": [
    "batter['Salary'].hist(bins=100)  # 연봉 분포 출력"
   ]
  },
  {
   "cell_type": "code",
   "execution_count": 280,
   "metadata": {
    "scrolled": true
   },
   "outputs": [
    {
     "data": {
      "text/plain": [
       "<matplotlib.axes._subplots.AxesSubplot at 0x2226f32a208>"
      ]
     },
     "execution_count": 280,
     "metadata": {},
     "output_type": "execute_result"
    },
    {
     "data": {
      "image/png": "[encoded data removed]",
      "text/plain": [
       "<Figure size 432x288 with 1 Axes>"
      ]
     },
     "metadata": {
      "needs_background": "light"
     },
     "output_type": "display_data"
    }
   ],
   "source": [
    "batter.boxplot(column=['Salary'])"
   ]
  },
  {
   "cell_type": "markdown",
   "metadata": {},
   "source": [
    "<b>Box Plot?</b>\n",
    "\n",
    "상자 그림(Box Plot)은 데이터의 사분위값 특성을 이용하여 데이터의 분포를 파악하는 그림 표현 방법.\n",
    "\n",
    "데이터의 기준을 제시해주는 그림. 그림 상에서 급여가 25000(만 원)이 넘는 데이터는 일반적이지 않다고 볼 수 있음."
   ]
  },
  {
   "cell_type": "markdown",
   "metadata": {},
   "source": [
    "-----"
   ]
  },
  {
   "cell_type": "markdown",
   "metadata": {},
   "source": [
    "### 회귀 분석에 사용할 특성"
   ]
  },
  {
   "cell_type": "code",
   "execution_count": 289,
   "metadata": {},
   "outputs": [],
   "source": [
    "batter_features_df = batter.drop(['Batter_Name', 'Year_Born', 'P_Year', 'YAB', 'YOPS'], axis=1)"
   ]
  },
  {
   "cell_type": "code",
   "execution_count": 298,
   "metadata": {},
   "outputs": [],
   "source": [
    "def plot_hist_each_column(df):\n",
    "    plt.rcParams['figure.figsize'] = [25, 30]\n",
    "    fig = plt.figure(1)\n",
    "    \n",
    "    # df의 column 개수 만큼의 subplot을 출력\n",
    "    for i in range(len(df.columns)):\n",
    "        ax = fig.add_subplot(8, 4, i+1)\n",
    "        plt.hist(df[df.columns[i]], bins=50)\n",
    "        ax.set_title(df.columns[i])\n",
    "    plt.show()"
   ]
  },
  {
   "cell_type": "code",
   "execution_count": 300,
   "metadata": {
    "scrolled": false
   },
   "outputs": [
    {
     "data": {
      "image/png": "[encoded data removed]",
      "text/plain": [
       "<Figure size 1800x2160 with 32 Axes>"
      ]
     },
     "metadata": {
      "needs_background": "light"
     },
     "output_type": "display_data"
    }
   ],
   "source": [
    "plot_hist_each_column(batter_features_df)"
   ]
  },
  {
   "cell_type": "markdown",
   "metadata": {},
   "source": [
    "-----"
   ]
  },
  {
   "cell_type": "markdown",
   "metadata": {},
   "source": [
    "# 2. 타자의 연봉 예측하기"
   ]
  },
  {
   "cell_type": "markdown",
   "metadata": {},
   "source": [
    "### 특성 단위 맞춰주기: 스케일링"
   ]
  },
  {
   "cell_type": "code",
   "execution_count": null,
   "metadata": {},
   "outputs": [],
   "source": []
  },
  {
   "cell_type": "code",
   "execution_count": null,
   "metadata": {},
   "outputs": [],
   "source": []
  },
  {
   "cell_type": "markdown",
   "metadata": {},
   "source": [
    "## 필요한 데이터만 추출"
   ]
  },
  {
   "cell_type": "code",
   "execution_count": 235,
   "metadata": {},
   "outputs": [
    {
     "data": {
      "text/plain": [
       "Index(['Age', 'G', 'PA', 'AB', 'R', 'H', '1B', '2B', '3B', 'HR', 'TB', 'RBI',\n",
       "       'SB', 'CS', 'FBP', 'GB', 'SO', 'GDP', 'BU', 'SF', 'Salary', 'WAR',\n",
       "       'Hand', 'CP', 'TP', 'Avg', 'OPS'],\n",
       "      dtype='object')"
      ]
     },
     "execution_count": 235,
     "metadata": {},
     "output_type": "execute_result"
    }
   ],
   "source": [
    "data = data.drop(['Batter_Name', 'Year_Born', 'P_Year', 'YAB', 'YOPS'], axis=1)\n",
    "data.columns"
   ]
  },
  {
   "cell_type": "markdown",
   "metadata": {},
   "source": [
    "## Categorical 컬럼 변환"
   ]
  },
  {
   "cell_type": "code",
   "execution_count": 236,
   "metadata": {},
   "outputs": [],
   "source": [
    "data.columns = ['Age', 'G', 'PA', 'AB', 'R', 'H', '1B', '2B', '3B', 'HR', 'TB', 'RBI', 'SB', 'CS', 'FBP', 'GB', 'SO', 'GDP', 'BU', 'SF', 'Salary', 'WAR', 'Hand', 'CP', 'TP', 'Avg', 'OPS']\n",
    "data['Hand'] = pd.Categorical(data['Hand'])\n",
    "data['CP'] = pd.Categorical(data['CP'])\n",
    "data['TP'] = pd.Categorical(data['TP'])"
   ]
  },
  {
   "cell_type": "markdown",
   "metadata": {},
   "source": [
    "## 목표변수 파악"
   ]
  },
  {
   "cell_type": "code",
   "execution_count": 237,
   "metadata": {},
   "outputs": [
    {
     "data": {
      "text/plain": [
       "Age          int64\n",
       "G            int64\n",
       "PA           int64\n",
       "AB           int64\n",
       "R            int64\n",
       "H            int64\n",
       "1B           int64\n",
       "2B           int64\n",
       "3B           int64\n",
       "HR           int64\n",
       "TB           int64\n",
       "RBI          int64\n",
       "SB           int64\n",
       "CS           int64\n",
       "FBP          int64\n",
       "GB           int64\n",
       "SO           int64\n",
       "GDP          int64\n",
       "BU           int64\n",
       "SF           int64\n",
       "Salary       int64\n",
       "WAR        float64\n",
       "Hand      category\n",
       "CP        category\n",
       "TP        category\n",
       "Avg        float64\n",
       "OPS        float64\n",
       "dtype: object"
      ]
     },
     "execution_count": 237,
     "metadata": {},
     "output_type": "execute_result"
    }
   ],
   "source": [
    "data.dtypes"
   ]
  },
  {
   "cell_type": "markdown",
   "metadata": {},
   "source": [
    "## Categorical Data 수치화\n",
    "학습 모델이 해당 데이터를 인지할 수 있도록 수치화된 값으로 변환하는 과정 필요\n",
    "\n",
    "아래의 3개 컬럼이 현재 Categorical Data"
   ]
  },
  {
   "cell_type": "code",
   "execution_count": 238,
   "metadata": {
    "scrolled": false
   },
   "outputs": [
    {
     "data": {
      "text/plain": [
       "우타우투    1247\n",
       "좌타우투     313\n",
       "좌타좌투     312\n",
       "양타우투      41\n",
       "Name: Hand, dtype: int64"
      ]
     },
     "execution_count": 238,
     "metadata": {},
     "output_type": "execute_result"
    }
   ],
   "source": [
    "data['Hand'].value_counts()"
   ]
  },
  {
   "cell_type": "code",
   "execution_count": 239,
   "metadata": {},
   "outputs": [
    {
     "data": {
      "text/plain": [
       "지명타자    268\n",
       "3루수     243\n",
       "좌익수     240\n",
       "포수      230\n",
       "2루수     213\n",
       "1루수     212\n",
       "우익수     200\n",
       "중견수     172\n",
       "유격수     135\n",
       "Name: CP, dtype: int64"
      ]
     },
     "execution_count": 239,
     "metadata": {},
     "output_type": "execute_result"
    }
   ],
   "source": [
    "data['CP'].value_counts()"
   ]
  },
  {
   "cell_type": "code",
   "execution_count": 240,
   "metadata": {
    "scrolled": true
   },
   "outputs": [
    {
     "data": {
      "text/plain": [
       "좌익수     259\n",
       "포수      247\n",
       "유격수     238\n",
       "2루수     234\n",
       "중견수     232\n",
       "우익수     230\n",
       "3루수     213\n",
       "1루수     187\n",
       "지명타자     73\n",
       "Name: TP, dtype: int64"
      ]
     },
     "execution_count": 240,
     "metadata": {},
     "output_type": "execute_result"
    }
   ],
   "source": [
    "data['TP'].value_counts()"
   ]
  },
  {
   "cell_type": "code",
   "execution_count": 241,
   "metadata": {
    "scrolled": true
   },
   "outputs": [
    {
     "data": {
      "text/plain": [
       "Index(['Age', 'G', 'PA', 'AB', 'R', 'H', '1B', '2B', '3B', 'HR', 'TB', 'RBI',\n",
       "       'SB', 'CS', 'FBP', 'GB', 'SO', 'GDP', 'BU', 'SF', 'Salary', 'WAR',\n",
       "       'Avg', 'OPS', 'Hand_양타우투', 'Hand_우타우투', 'Hand_좌타우투', 'Hand_좌타좌투',\n",
       "       'CP_1루수', 'CP_2루수', 'CP_3루수', 'CP_우익수', 'CP_유격수', 'CP_좌익수', 'CP_중견수',\n",
       "       'CP_지명타자', 'CP_포수', 'TP_1루수', 'TP_2루수', 'TP_3루수', 'TP_우익수', 'TP_유격수',\n",
       "       'TP_좌익수', 'TP_중견수', 'TP_지명타자', 'TP_포수'],\n",
       "      dtype='object')"
      ]
     },
     "execution_count": 241,
     "metadata": {},
     "output_type": "execute_result"
    }
   ],
   "source": [
    "# Encoding categorical data\n",
    "data = pd.concat([data, pd.get_dummies(data['Hand'], prefix='Hand')], axis=1)\n",
    "data = pd.concat([data, pd.get_dummies(data['CP'], prefix='CP')], axis=1)\n",
    "data = pd.concat([data, pd.get_dummies(data['TP'], prefix='TP')], axis=1)\n",
    "data = data.drop(['Hand', 'CP', 'TP'], axis=1)\n",
    "data.columns"
   ]
  },
  {
   "cell_type": "code",
   "execution_count": 242,
   "metadata": {},
   "outputs": [
    {
     "data": {
      "text/plain": [
       "Age            int64\n",
       "G              int64\n",
       "PA             int64\n",
       "AB             int64\n",
       "R              int64\n",
       "H              int64\n",
       "1B             int64\n",
       "2B             int64\n",
       "3B             int64\n",
       "HR             int64\n",
       "TB             int64\n",
       "RBI            int64\n",
       "SB             int64\n",
       "CS             int64\n",
       "FBP            int64\n",
       "GB             int64\n",
       "SO             int64\n",
       "GDP            int64\n",
       "BU             int64\n",
       "SF             int64\n",
       "Salary         int64\n",
       "WAR          float64\n",
       "Avg          float64\n",
       "OPS          float64\n",
       "Hand_양타우투      uint8\n",
       "Hand_우타우투      uint8\n",
       "Hand_좌타우투      uint8\n",
       "Hand_좌타좌투      uint8\n",
       "CP_1루수         uint8\n",
       "CP_2루수         uint8\n",
       "CP_3루수         uint8\n",
       "CP_우익수         uint8\n",
       "CP_유격수         uint8\n",
       "CP_좌익수         uint8\n",
       "CP_중견수         uint8\n",
       "CP_지명타자        uint8\n",
       "CP_포수          uint8\n",
       "TP_1루수         uint8\n",
       "TP_2루수         uint8\n",
       "TP_3루수         uint8\n",
       "TP_우익수         uint8\n",
       "TP_유격수         uint8\n",
       "TP_좌익수         uint8\n",
       "TP_중견수         uint8\n",
       "TP_지명타자        uint8\n",
       "TP_포수          uint8\n",
       "dtype: object"
      ]
     },
     "execution_count": 242,
     "metadata": {},
     "output_type": "execute_result"
    }
   ],
   "source": [
    "data.dtypes"
   ]
  },
  {
   "cell_type": "markdown",
   "metadata": {},
   "source": [
    "## NA / NAN Data 처리"
   ]
  },
  {
   "cell_type": "code",
   "execution_count": 243,
   "metadata": {},
   "outputs": [],
   "source": [
    "data = data.fillna(0)"
   ]
  },
  {
   "cell_type": "markdown",
   "metadata": {},
   "source": [
    "## 분석 데이터 분할"
   ]
  },
  {
   "cell_type": "code",
   "execution_count": 244,
   "metadata": {},
   "outputs": [
    {
     "name": "stdout",
     "output_type": "stream",
     "text": [
      "(1913, 45) (1913,)\n",
      "0      -0.055\n",
      "1      -0.441\n",
      "2       0.783\n",
      "3      -0.405\n",
      "4      -0.130\n",
      "        ...  \n",
      "1908    3.315\n",
      "1909    0.215\n",
      "1910   -0.271\n",
      "1911    2.365\n",
      "1912    5.356\n",
      "Name: WAR, Length: 1913, dtype: float64\n"
     ]
    }
   ],
   "source": [
    "X = data.drop('Salary', axis=1)\n",
    "y = data['Salary']\n",
    "\n",
    "print(X.shape, y.shape)\n",
    "print(data['WAR'])\n",
    "\n",
    "X_train, X_test, y_train, y_test = train_test_split(X, y, test_size=0.1, random_state=1)\n",
    "shuffle_index = np.random.permutation(len(X_train))\n",
    "X_train, y_train = X_train.iloc[shuffle_index], y_train.iloc[shuffle_index]"
   ]
  },
  {
   "cell_type": "markdown",
   "metadata": {},
   "source": [
    "## 회귀 모형 적합\n",
    "\n",
    "- 경사하강법(일반, 확률, 배치, 미니배치)\n",
    "\n",
    "- 몇 개의 특성만 실제 유용할 것이라고 의심: 라쏘\n",
    "\n",
    "- 라쏘가 불규칙하게 행동할 수 있음: 엘라스틱 넷\n",
    "\n",
    "- 불규칙한 행동이 없는 라쏘를 원하면 엘라스틱넷에 혼합 비율을 1에 가깝게 설정\n",
    "\n",
    "- SVM 회귀"
   ]
  },
  {
   "cell_type": "markdown",
   "metadata": {},
   "source": [
    "## 라쏘 회귀"
   ]
  },
  {
   "cell_type": "code",
   "execution_count": 245,
   "metadata": {},
   "outputs": [
    {
     "name": "stdout",
     "output_type": "stream",
     "text": [
      "Lasso(alpha=0.1, copy_X=True, fit_intercept=True, max_iter=100, normalize=False,\n",
      "      positive=False, precompute=False, random_state=None, selection='cyclic',\n",
      "      tol=1, warm_start=False)\n",
      "r^2 on test data: 0.401348\n",
      "0.47437143597924536\n",
      "0.40134752768246307\n"
     ]
    }
   ],
   "source": [
    "from sklearn.metrics import r2_score\n",
    "\n",
    "from sklearn import linear_model\n",
    "lasso = linear_model.Lasso(alpha=0.1, max_iter=100, tol=1)\n",
    "lasso.fit(X_train, y_train)\n",
    "\n",
    "y_pred_lasso = lasso.predict(X_test)\n",
    "r2_score_lasso = r2_score(y_test, y_pred_lasso)\n",
    "\n",
    "print(lasso)\n",
    "print(\"r^2 on test data: %f\" % r2_score_lasso)\n",
    "\n",
    "print(lasso.score(X_train, y_train))  # 0.5345918315079097\n",
    "print(lasso.score(X_test, y_test))  # 0.38975303863077965"
   ]
  },
  {
   "cell_type": "markdown",
   "metadata": {},
   "source": [
    "결과가 엉망..."
   ]
  },
  {
   "cell_type": "markdown",
   "metadata": {},
   "source": [
    "## 엘라스틱 넷"
   ]
  },
  {
   "cell_type": "code",
   "execution_count": 246,
   "metadata": {},
   "outputs": [
    {
     "name": "stdout",
     "output_type": "stream",
     "text": [
      "ElasticNet(alpha=0.1, copy_X=True, fit_intercept=True, l1_ratio=0.8,\n",
      "           max_iter=1000, normalize=False, positive=False, precompute=False,\n",
      "           random_state=None, selection='cyclic', tol=1, warm_start=False)\n",
      "r^2 on test data: 0.400857\n",
      "0.4674389608417908\n",
      "0.4008567284907606\n",
      "[ 1.84082950e+03  1.00844665e+02  1.67112981e+01 -7.46947871e-01\n",
      "  6.02102385e+01 -2.35513096e+00 -1.60447165e+01  3.51962933e+01\n",
      " -9.85319739e+02  4.09934015e+02 -1.34852659e+01  9.95908656e+00\n",
      "  3.44315107e-01 -4.45564707e+02  1.03694275e+01  1.62057105e+03\n",
      " -1.12026053e+02  2.39459543e+02 -7.15917541e+02  1.12505926e+02\n",
      "  5.65517042e+02  5.79796976e+02 -1.77062057e+03 -1.20534863e+03\n",
      " -7.11956729e+02  1.88606984e+03 -1.02546222e+03 -2.14368647e+03\n",
      "  8.88654557e+02  7.92484062e+02 -1.60634793e+03  6.63934991e+02\n",
      " -2.91444172e+03  4.08406073e+03 -7.85180363e+01 -3.20869603e+02\n",
      "  4.20127430e+03 -9.23800688e+01  7.88922387e+02 -5.89427186e+02\n",
      "  1.52764691e+03 -1.27303310e+03  1.18149576e+03 -3.73201005e+03\n",
      " -2.39870164e+02]\n"
     ]
    }
   ],
   "source": [
    "enet = linear_model.ElasticNet(alpha=0.1, l1_ratio=0.8, tol=1)\n",
    "enet.fit(X_train, y_train)\n",
    "\n",
    "y_pred_enet = enet.predict(X_test)\n",
    "r2_score_enet = r2_score(y_test, y_pred_enet)\n",
    "\n",
    "print(enet)\n",
    "print(\"r^2 on test data: %f\" % r2_score_enet)\n",
    "\n",
    "print(enet.score(X_train, y_train))  # 0.5345918315079097\n",
    "print(enet.score(X_test, y_test))  # 0.38975303863077965\n",
    "\n",
    "print(enet.coef_)"
   ]
  },
  {
   "cell_type": "markdown",
   "metadata": {},
   "source": [
    "마찬가지로 결과가 좋지 않다.\n",
    "\n",
    "데이터 전처리, 적합한 알고리즘 사용에 더 신경을 써야겠다고 판단했다.\n",
    "\n",
    "뭘 먼저 해야할까... 검색해보니 <b>스케일링</b>과 <b>다중 공선성</b>이라는 개념이 나왔다.\n",
    "\n",
    "### 스케일링\n",
    "일단 데이터를 모델링 하기 전에는 반드시 스케일링 과정을 거쳐야 한다. 스케일링을 통해 다차원의 값들을 비교 분석하기 쉽게 만들어주며, 자료의 오버플로우(Overflow)나 언더플로우(Underflow)를 방지 하고, 독립 변수의 공분산 행렬의 조건수(condition number)를 감소시켜 최적화 과정에서의 안정성 및 수렴 속도를 향상시킨다.\n",
    "\n",
    "### 다중 공선성\n",
    "한 종속변수의 값을 예측하기 위해서 다양한 변수를 사용하는데, 그 모든 변수들이 독립적인 것이 아닐 수 있다. 한 변수가 다른 변수와 비슷한 결과를 나타내기도 하는데, 그렇게 중복된 데이터가 섞이게 되면 데이터의 복잡성을 높이고, 불필요한 계산이 들어가기 때문에 정확도가 더 줄어들게 된다.\n",
    "\n",
    "차근차근 반영해보자."
   ]
  },
  {
   "cell_type": "code",
   "execution_count": 254,
   "metadata": {
    "scrolled": true
   },
   "outputs": [
    {
     "name": "stdout",
     "output_type": "stream",
     "text": [
      "        Age         G        PA        AB         R         H        1B  \\\n",
      "0  0.260870  0.174825  0.086310  0.090278  0.029630  0.044776  0.035211   \n",
      "1  0.304348  0.321678  0.127976  0.137153  0.059259  0.069652  0.056338   \n",
      "2  0.347826  0.447552  0.263393  0.267361  0.162963  0.179104  0.140845   \n",
      "3  0.391304  0.552448  0.296131  0.302083  0.088889  0.169154  0.161972   \n",
      "4  0.434783  0.097902  0.029762  0.029514  0.014815  0.014925  0.021127   \n",
      "\n",
      "         2B   3B        HR  ...  CP_포수  TP_1루수  TP_2루수  TP_3루수  TP_우익수  \\\n",
      "0  0.085106  0.0  0.000000  ...    1.0     0.0     0.0     0.0     0.0   \n",
      "1  0.042553  0.0  0.074074  ...    1.0     0.0     0.0     0.0     0.0   \n",
      "2  0.127660  0.0  0.185185  ...    1.0     0.0     0.0     0.0     0.0   \n",
      "3  0.148936  0.0  0.074074  ...    1.0     0.0     0.0     0.0     0.0   \n",
      "4  0.000000  0.0  0.000000  ...    1.0     0.0     0.0     0.0     0.0   \n",
      "\n",
      "   TP_유격수  TP_좌익수  TP_중견수  TP_지명타자  TP_포수  \n",
      "0     0.0     0.0     0.0      0.0    1.0  \n",
      "1     0.0     0.0     0.0      0.0    1.0  \n",
      "2     0.0     0.0     0.0      0.0    1.0  \n",
      "3     0.0     0.0     0.0      0.0    1.0  \n",
      "4     0.0     0.0     0.0      0.0    1.0  \n",
      "\n",
      "[5 rows x 46 columns]\n"
     ]
    }
   ],
   "source": [
    "# 스케일링 (Min-Max Scaling)\n",
    "from sklearn.preprocessing import StandardScaler\n",
    "standardScaler = StandardScaler()\n",
    "fitted = standardScaler.fit(data)\n",
    "df = data.copy()\n",
    "output = min_max_scaler.transform(data)\n",
    "output = pd.DataFrame(output, columns=df.columns, index=list(df.index.values))\n",
    "print(output.head())"
   ]
  },
  {
   "cell_type": "code",
   "execution_count": null,
   "metadata": {},
   "outputs": [],
   "source": [
    "X_train, X_test, y_train, y_test = train_test_split(X, y, test_size=0.1, random_state=1)\n",
    "shuffle_index = np.random.permutation(len(X_train))\n",
    "X_train, y_train = X_train.iloc[shuffle_index], y_train.iloc[shuffle_index]\n",
    "\n",
    "lasso = linear_model.Lasso(alpha=0.1, max_iter=100000, tol=1e-4)\n",
    "lasso.fit(X_train, y_train)\n",
    "\n",
    "y_pred_lasso = lasso.predict(X_test)\n",
    "r2_score_lasso = r2_score(y_test, y_pred_lasso)\n",
    "\n",
    "print(lasso)\n",
    "print(\"r^2 on test data: %f\" % r2_score_lasso)\n",
    "\n",
    "print(lasso.score(X_train, y_train))  # 0.47437143597924536\n",
    "print(lasso.score(X_test, y_test))  # 0.40134752768246296"
   ]
  },
  {
   "cell_type": "code",
   "execution_count": null,
   "metadata": {},
   "outputs": [],
   "source": [
    "!^C"
   ]
  },
  {
   "cell_type": "code",
   "execution_count": null,
   "metadata": {},
   "outputs": [],
   "source": [
    "from statsmodels.datasets.longley import load_pandas\n",
    "\n",
    "dfy = load_pandas().endog\n",
    "dfX = load_pandas().exog\n",
    "df = pd.concat([dfy, dfX], axis=1)\n",
    "sns.pairplot(dfX)\n",
    "plt.show()"
   ]
  },
  {
   "cell_type": "code",
   "execution_count": null,
   "metadata": {},
   "outputs": [],
   "source": []
  }
 ],
 "metadata": {
  "kernelspec": {
   "display_name": "Python 3",
   "language": "python",
   "name": "python3"
  },
  "language_info": {
   "codemirror_mode": {
    "name": "ipython",
    "version": 3
   },
   "file_extension": ".py",
   "mimetype": "text/x-python",
   "name": "python",
   "nbconvert_exporter": "python",
   "pygments_lexer": "ipython3",
   "version": "3.7.6"
  }
 },
 "nbformat": 4,
 "nbformat_minor": 4
}
